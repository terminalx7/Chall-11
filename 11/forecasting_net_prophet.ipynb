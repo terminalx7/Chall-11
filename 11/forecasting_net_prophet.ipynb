{
 "cells": [
  {
   "cell_type": "markdown",
   "metadata": {},
   "source": [
    "# Forecasting Net Prophet\n",
    "\n",
    "You’re a growth analyst at [MercadoLibre](http://investor.mercadolibre.com/investor-relations). With over 200 million users, MercadoLibre is the most popular e-commerce site in Latin America. You've been tasked with analyzing the company's financial and user data in clever ways to make the company grow. So, you want to find out if the ability to predict search traffic can translate into the ability to successfully trade the stock.\n",
    "\n",
    "Instructions\n",
    "\n",
    "This section divides the instructions for this Challenge into four steps and an optional fifth step, as follows:\n",
    "\n",
    "* Step 1: Find unusual patterns in hourly Google search traffic\n",
    "\n",
    "* Step 2: Mine the search traffic data for seasonality\n",
    "\n",
    "* Step 3: Relate the search traffic to stock price patterns\n",
    "\n",
    "* Step 4: Create a time series model with Prophet\n",
    "\n",
    "* Step 5 (optional): Forecast revenue by using time series models\n",
    "\n",
    "The following subsections detail these steps.\n",
    "\n",
    "## Step 1: Find Unusual Patterns in Hourly Google Search Traffic\n",
    "\n",
    "The data science manager asks if the Google search traffic for the company links to any financial events at the company. Or, does the search traffic data just present random noise? To answer this question, pick out any unusual patterns in the Google search data for the company, and connect them to the corporate financial events.\n",
    "\n",
    "To do so, complete the following steps:\n",
    "\n",
    "1. Read the search data into a DataFrame, and then slice the data to just the month of May 2020. (During this month, MercadoLibre released its quarterly financial results.) Use hvPlot to visualize the results. Do any unusual patterns exist?\n",
    "\n",
    "2. Calculate the total search traffic for the month, and then compare the value to the monthly median across all months. Did the Google search traffic increase during the month that MercadoLibre released its financial results?\n",
    "\n",
    "## Step 2: Mine the Search Traffic Data for Seasonality\n",
    "\n",
    "Marketing realizes that they can use the hourly search data, too. If they can track and predict interest in the company and its platform for any time of day, they can focus their marketing efforts around the times that have the most traffic. This will get a greater return on investment (ROI) from their marketing budget.\n",
    "\n",
    "To that end, you want to mine the search traffic data for predictable seasonal patterns of interest in the company. To do so, complete the following steps:\n",
    "\n",
    "1. Group the hourly search data to plot the average traffic by the day of the week (for example, Monday vs. Friday).\n",
    "\n",
    "2. Using hvPlot, visualize this traffic as a heatmap, referencing the `index.hour` as the x-axis and the `index.dayofweek` as the y-axis. Does any day-of-week effect that you observe concentrate in just a few hours of that day?\n",
    "\n",
    "3. Group the search data by the week of the year. Does the search traffic tend to increase during the winter holiday period (weeks 40 through 52)?\n",
    "\n",
    "## Step 3: Relate the Search Traffic to Stock Price Patterns\n",
    "\n",
    "You mention your work on the search traffic data during a meeting with people in the finance group at the company. They want to know if any relationship between the search data and the company stock price exists, and they ask if you can investigate.\n",
    "\n",
    "To do so, complete the following steps:\n",
    "\n",
    "1. Read in and plot the stock price data. Concatenate the stock price data to the search data in a single DataFrame.\n",
    "\n",
    "2. Market events emerged during the year of 2020 that many companies found difficult. But, after the initial shock to global financial markets, new customers and revenue increased for e-commerce platforms. Slice the data to just the first half of 2020 (`2020-01` to `2020-06` in the DataFrame), and then use hvPlot to plot the data. Do both time series indicate a common trend that’s consistent with this narrative?\n",
    "\n",
    "3. Create a new column in the DataFrame named “Lagged Search Trends” that offsets, or shifts, the search traffic by one hour. Create two additional columns:\n",
    "\n",
    "    * “Stock Volatility”, which holds an exponentially weighted four-hour rolling average of the company’s stock volatility\n",
    "\n",
    "    * “Hourly Stock Return”, which holds the percent change of the company's stock price on an hourly basis\n",
    "\n",
    "4. Review the time series correlation, and then answer the following question: Does a predictable relationship exist between the lagged search traffic and the stock volatility or between the lagged search traffic and the stock price returns?\n",
    "\n",
    "## Step 4: Create a Time Series Model with Prophet\n",
    "\n",
    "Now, you need to produce a time series model that analyzes and forecasts patterns in the hourly search data. To do so, complete the following steps:\n",
    "\n",
    "1. Set up the Google search data for a Prophet forecasting model.\n",
    "\n",
    "2. After estimating the model, plot the forecast. How's the near-term forecast for the popularity of MercadoLibre?\n",
    "\n",
    "3. Plot the individual time series components of the model to answer the following questions:\n",
    "\n",
    "    * What time of day exhibits the greatest popularity?\n",
    "\n",
    "    * Which day of the week gets the most search traffic?\n",
    "\n",
    "    * What's the lowest point for search traffic in the calendar year?\n",
    "\n",
    "## Step 5 (Optional): Forecast Revenue by Using Time Series Models\n",
    "\n",
    "A few weeks after your initial analysis, the finance group follows up to find out if you can help them solve a different problem. Your fame as a growth analyst in the company continues to grow!\n",
    "\n",
    "Specifically, the finance group wants a forecast of the total sales for the next quarter. This will dramatically increase their ability to plan budgets and to help guide expectations for the company investors.\n",
    "\n",
    "To do so, complete the following steps:\n",
    "\n",
    "1. Read in the daily historical sales (that is, revenue) figures, and then apply a Prophet model to the data.\n",
    "\n",
    "2. Interpret the model output to identify any seasonal patterns in the company's revenue. For example, what are the peak revenue days? (Mondays? Fridays? Something else?)\n",
    "\n",
    "3. Produce a sales forecast for the finance group. Give them a number for the expected total sales in the next quarter. Include the best- and worst-case scenarios to help them make better plans.\n"
   ]
  },
  {
   "cell_type": "code",
   "execution_count": 1,
   "metadata": {},
   "outputs": [
    {
     "name": "stdout",
     "output_type": "stream",
     "text": [
      "Collecting package metadata (current_repodata.json): ...working... done\n",
      "Solving environment: ...working... done\n",
      "\n",
      "## Package Plan ##\n",
      "\n",
      "  environment location: C:\\backup\\envs\\dev\\envs\\dev\n",
      "\n",
      "  added / updated specs:\n",
      "    - fbprophet\n",
      "\n",
      "\n",
      "The following packages will be downloaded:\n",
      "\n",
      "    package                    |            build\n",
      "    ---------------------------|-----------------\n",
      "    arviz-0.11.4               |     pyhd8ed1ab_0         1.4 MB  conda-forge\n",
      "    ca-certificates-2021.10.8  |       h5b45459_0         176 KB  conda-forge\n",
      "    certifi-2021.10.8          |   py37h03978a9_1         145 KB  conda-forge\n",
      "    chardet-4.0.0              |   py37h03978a9_2         217 KB  conda-forge\n",
      "    conda-4.12.0               |   py37h03978a9_0         1.0 MB  conda-forge\n",
      "    convertdate-2.4.0          |     pyhd8ed1ab_0          38 KB  conda-forge\n",
      "    ephem-4.1.3                |   py37hcc03f2d_2         1.3 MB  conda-forge\n",
      "    fbprophet-0.7.1            |   py37h1834ac0_0         567 KB  conda-forge\n",
      "    hijri-converter-2.2.3      |     pyhd8ed1ab_0          17 KB  conda-forge\n",
      "    holidays-0.13              |     pyhd8ed1ab_0          85 KB  conda-forge\n"
     ]
    },
    {
     "name": "stderr",
     "output_type": "stream",
     "text": [
      "\n",
      "The environment is inconsistent, please check the package plan carefully\n",
      "The following packages are causing the inconsistency:\n",
      "\n",
      "  - defaults/win-64::anaconda-client==1.9.0=py37haa95532_0\n",
      "  - defaults/win-64::anaconda==custom=py37_1\n",
      "  - defaults/noarch::anaconda-project==0.10.2=pyhd3eb1b0_0\n",
      "  - defaults/win-64::astropy==4.3.1=py37hc7d831d_0\n",
      "  - defaults/noarch::binaryornot==0.4.4=pyhd3eb1b0_1\n",
      "  - defaults/win-64::bokeh==2.4.2=py37haa95532_0\n",
      "  - pyviz/noarch::colorcet==3.0.0=py_0\n",
      "  - defaults/noarch::cookiecutter==1.7.2=pyhd3eb1b0_0\n",
      "  - defaults/noarch::dask==2021.10.0=pyhd3eb1b0_0\n",
      "  - defaults/noarch::dask-core==2021.10.0=pyhd3eb1b0_0\n",
      "  - pyviz/noarch::datashader==0.13.0=py_0\n",
      "  - defaults/win-64::distributed==2021.10.0=py37haa95532_0\n",
      "  - pyviz/noarch::geoviews==1.9.3=py_0\n",
      "  - pyviz/noarch::geoviews-core==1.9.3=py_0\n",
      "  - pyviz/noarch::holoviews==1.14.7=py_0\n",
      "  - pyviz/noarch::hvplot==0.7.3=py_0\n",
      "  - pyviz/noarch::panel==0.12.6=py_0\n",
      "  - pyviz/noarch::pyct==0.4.8=py_0\n",
      "  - defaults/win-64::scikit-image==0.18.3=py37hf11a4ad_0\n",
      "  - defaults/win-64::spyder==5.1.5=py37haa95532_1\n",
      "  - defaults/win-64::watchdog==2.1.6=py37haa95532_0\n",
      "  - defaults/win-64::_anaconda_depends==2021.11=py37_0\n",
      "\n",
      "\n",
      "==> WARNING: A newer version of conda exists. <==\n",
      "  current version: 4.11.0\n",
      "  latest version: 4.12.0\n",
      "\n",
      "Please update conda by running\n",
      "\n",
      "    $ conda update -n base -c defaults conda\n",
      "\n",
      "\n"
     ]
    },
    {
     "name": "stdout",
     "output_type": "stream",
     "text": [
      "    korean_lunar_calendar-0.2.1|     pyh9f0ad1d_0          10 KB  conda-forge\n",
      "    libpython-2.1              |   py37h03978a9_1          49 KB  conda-forge\n",
      "    lunarcalendar-0.0.9        |             py_0          20 KB  conda-forge\n",
      "    m2w64-binutils-2.25.1      |                5        44.3 MB  conda-forge\n",
      "    m2w64-bzip2-1.0.6          |                6         102 KB  conda-forge\n",
      "    m2w64-crt-git-5.0.0.4636.2595836|                2         3.4 MB  conda-forge\n",
      "    m2w64-gcc-5.3.0            |                6        40.8 MB  conda-forge\n",
      "    m2w64-gcc-ada-5.3.0        |                6        33.3 MB  conda-forge\n",
      "    m2w64-gcc-fortran-5.3.0    |                6        10.2 MB  conda-forge\n",
      "    m2w64-gcc-objc-5.3.0       |                6        15.2 MB  conda-forge\n",
      "    m2w64-headers-git-5.0.0.4636.c0ad18a|                2         5.6 MB  conda-forge\n",
      "    m2w64-isl-0.16.1           |                2         655 KB  conda-forge\n",
      "    m2w64-libiconv-1.14        |                6         1.5 MB  conda-forge\n",
      "    m2w64-libmangle-git-5.0.0.4509.2e5a9a2|                2          23 KB  conda-forge\n",
      "    m2w64-make-4.1.2351.a80a8b8|                2         117 KB  conda-forge\n",
      "    m2w64-mpc-1.0.3            |                3          71 KB  conda-forge\n",
      "    m2w64-mpfr-3.1.4           |                4         294 KB  conda-forge\n",
      "    m2w64-pkg-config-0.29.1    |                2         467 KB  conda-forge\n",
      "    m2w64-toolchain-5.3.0      |                7           3 KB  conda-forge\n",
      "    m2w64-toolchain_win-64-2.4.0|                0           4 KB  conda-forge\n",
      "    m2w64-tools-git-5.0.0.4592.90b8472|                2         320 KB  conda-forge\n",
      "    m2w64-windows-default-manifest-6.4|                3           5 KB  conda-forge\n",
      "    m2w64-winpthreads-git-5.0.0.4634.697f757|                2          47 KB  conda-forge\n",
      "    m2w64-zlib-1.2.8           |               10         199 KB  conda-forge\n",
      "    openssl-1.1.1l             |       h8ffe710_0         5.7 MB  conda-forge\n",
      "    pymeeus-0.5.10             |     pyhd8ed1ab_0         534 KB  conda-forge\n",
      "    pystan-2.19.1.1            |   py37h631819c_3        35.8 MB  conda-forge\n",
      "    python_abi-3.7             |          2_cp37m           4 KB  conda-forge\n",
      "    pyyaml-6.0                 |   py37hcc03f2d_3         155 KB  conda-forge\n",
      "    ------------------------------------------------------------\n",
      "                                           Total:       203.6 MB\n",
      "\n",
      "The following NEW packages will be INSTALLED:\n",
      "\n",
      "  arviz              conda-forge/noarch::arviz-0.11.4-pyhd8ed1ab_0\n",
      "  chardet            conda-forge/win-64::chardet-4.0.0-py37h03978a9_2\n",
      "  convertdate        conda-forge/noarch::convertdate-2.4.0-pyhd8ed1ab_0\n",
      "  ephem              conda-forge/win-64::ephem-4.1.3-py37hcc03f2d_2\n",
      "  fbprophet          conda-forge/win-64::fbprophet-0.7.1-py37h1834ac0_0\n",
      "  hijri-converter    conda-forge/noarch::hijri-converter-2.2.3-pyhd8ed1ab_0\n",
      "  holidays           conda-forge/noarch::holidays-0.13-pyhd8ed1ab_0\n",
      "  korean_lunar_cale~ conda-forge/noarch::korean_lunar_calendar-0.2.1-pyh9f0ad1d_0\n",
      "  libpython          conda-forge/win-64::libpython-2.1-py37h03978a9_1\n",
      "  lunarcalendar      conda-forge/noarch::lunarcalendar-0.0.9-py_0\n",
      "  m2w64-binutils     conda-forge/win-64::m2w64-binutils-2.25.1-5\n",
      "  m2w64-bzip2        conda-forge/win-64::m2w64-bzip2-1.0.6-6\n",
      "  m2w64-crt-git      conda-forge/win-64::m2w64-crt-git-5.0.0.4636.2595836-2\n",
      "  m2w64-gcc          conda-forge/win-64::m2w64-gcc-5.3.0-6\n",
      "  m2w64-gcc-ada      conda-forge/win-64::m2w64-gcc-ada-5.3.0-6\n",
      "  m2w64-gcc-fortran  conda-forge/win-64::m2w64-gcc-fortran-5.3.0-6\n",
      "  m2w64-gcc-objc     conda-forge/win-64::m2w64-gcc-objc-5.3.0-6\n",
      "  m2w64-headers-git  conda-forge/win-64::m2w64-headers-git-5.0.0.4636.c0ad18a-2\n",
      "  m2w64-isl          conda-forge/win-64::m2w64-isl-0.16.1-2\n",
      "  m2w64-libiconv     conda-forge/win-64::m2w64-libiconv-1.14-6\n",
      "  m2w64-libmangle-g~ conda-forge/win-64::m2w64-libmangle-git-5.0.0.4509.2e5a9a2-2\n",
      "  m2w64-make         conda-forge/win-64::m2w64-make-4.1.2351.a80a8b8-2\n",
      "  m2w64-mpc          conda-forge/win-64::m2w64-mpc-1.0.3-3\n",
      "  m2w64-mpfr         conda-forge/win-64::m2w64-mpfr-3.1.4-4\n",
      "  m2w64-pkg-config   conda-forge/win-64::m2w64-pkg-config-0.29.1-2\n",
      "  m2w64-toolchain    conda-forge/win-64::m2w64-toolchain-5.3.0-7\n",
      "  m2w64-toolchain_w~ conda-forge/win-64::m2w64-toolchain_win-64-2.4.0-0\n",
      "  m2w64-tools-git    conda-forge/win-64::m2w64-tools-git-5.0.0.4592.90b8472-2\n",
      "  m2w64-windows-def~ conda-forge/win-64::m2w64-windows-default-manifest-6.4-3\n",
      "  m2w64-winpthreads~ conda-forge/win-64::m2w64-winpthreads-git-5.0.0.4634.697f757-2\n",
      "  m2w64-zlib         conda-forge/win-64::m2w64-zlib-1.2.8-10\n",
      "  pymeeus            conda-forge/noarch::pymeeus-0.5.10-pyhd8ed1ab_0\n",
      "  pystan             conda-forge/win-64::pystan-2.19.1.1-py37h631819c_3\n",
      "  python_abi         conda-forge/win-64::python_abi-3.7-2_cp37m\n",
      "  pyyaml             conda-forge/win-64::pyyaml-6.0-py37hcc03f2d_3\n",
      "\n",
      "The following packages will be UPDATED:\n",
      "\n",
      "  conda              pkgs/main::conda-4.11.0-py37haa95532_0 --> conda-forge::conda-4.12.0-py37h03978a9_0\n",
      "\n",
      "The following packages will be SUPERSEDED by a higher-priority channel:\n",
      "\n",
      "  ca-certificates    pkgs/main::ca-certificates-2021.10.26~ --> conda-forge::ca-certificates-2021.10.8-h5b45459_0\n",
      "  certifi            pkgs/main::certifi-2021.10.8-py37haa9~ --> conda-forge::certifi-2021.10.8-py37h03978a9_1\n",
      "  openssl              pkgs/main::openssl-1.1.1m-h2bbff1b_0 --> conda-forge::openssl-1.1.1l-h8ffe710_0\n",
      "\n",
      "\n",
      "\n",
      "Downloading and Extracting Packages\n",
      "\n",
      "m2w64-mpc-1.0.3      | 71 KB     |            |   0% \n",
      "m2w64-mpc-1.0.3      | 71 KB     | ##2        |  22% \n",
      "m2w64-mpc-1.0.3      | 71 KB     | ########## | 100% \n",
      "\n",
      "m2w64-bzip2-1.0.6    | 102 KB    |            |   0% \n",
      "m2w64-bzip2-1.0.6    | 102 KB    | ########## | 100% \n",
      "m2w64-bzip2-1.0.6    | 102 KB    | ########## | 100% \n",
      "\n",
      "holidays-0.13        | 85 KB     |            |   0% \n",
      "holidays-0.13        | 85 KB     | ########## | 100% \n",
      "holidays-0.13        | 85 KB     | ########## | 100% \n",
      "\n",
      "m2w64-make-4.1.2351. | 117 KB    |            |   0% \n",
      "m2w64-make-4.1.2351. | 117 KB    | ########## | 100% \n",
      "\n",
      "m2w64-libmangle-git- | 23 KB     |            |   0% \n",
      "m2w64-libmangle-git- | 23 KB     | ########## | 100% \n",
      "\n",
      "pyyaml-6.0           | 155 KB    |            |   0% \n",
      "pyyaml-6.0           | 155 KB    | ########## | 100% \n",
      "pyyaml-6.0           | 155 KB    | ########## | 100% \n",
      "\n",
      "m2w64-gcc-fortran-5. | 10.2 MB   |            |   0% \n",
      "m2w64-gcc-fortran-5. | 10.2 MB   | 3          |   4% \n",
      "m2w64-gcc-fortran-5. | 10.2 MB   | 9          |   9% \n",
      "m2w64-gcc-fortran-5. | 10.2 MB   | #5         |  16% \n",
      "m2w64-gcc-fortran-5. | 10.2 MB   | ##1        |  22% \n",
      "m2w64-gcc-fortran-5. | 10.2 MB   | ##7        |  27% \n",
      "m2w64-gcc-fortran-5. | 10.2 MB   | ###2       |  33% \n",
      "m2w64-gcc-fortran-5. | 10.2 MB   | ###8       |  38% \n",
      "m2w64-gcc-fortran-5. | 10.2 MB   | ####4      |  44% \n",
      "m2w64-gcc-fortran-5. | 10.2 MB   | #####      |  50% \n",
      "m2w64-gcc-fortran-5. | 10.2 MB   | #####5     |  56% \n",
      "m2w64-gcc-fortran-5. | 10.2 MB   | ######1    |  61% \n",
      "m2w64-gcc-fortran-5. | 10.2 MB   | ######6    |  67% \n",
      "m2w64-gcc-fortran-5. | 10.2 MB   | #######1   |  72% \n",
      "m2w64-gcc-fortran-5. | 10.2 MB   | #######6   |  77% \n",
      "m2w64-gcc-fortran-5. | 10.2 MB   | ########1  |  82% \n",
      "m2w64-gcc-fortran-5. | 10.2 MB   | ########7  |  87% \n",
      "m2w64-gcc-fortran-5. | 10.2 MB   | #########2 |  92% \n",
      "m2w64-gcc-fortran-5. | 10.2 MB   | #########8 |  98% \n",
      "m2w64-gcc-fortran-5. | 10.2 MB   | ########## | 100% \n",
      "\n",
      "convertdate-2.4.0    | 38 KB     |            |   0% \n",
      "convertdate-2.4.0    | 38 KB     | ########## | 100% \n",
      "convertdate-2.4.0    | 38 KB     | ########## | 100% \n",
      "\n",
      "libpython-2.1        | 49 KB     |            |   0% \n",
      "libpython-2.1        | 49 KB     | ########## | 100% \n",
      "libpython-2.1        | 49 KB     | ########## | 100% \n",
      "\n",
      "conda-4.12.0         | 1.0 MB    |            |   0% \n",
      "conda-4.12.0         | 1.0 MB    | 1          |   2% \n",
      "conda-4.12.0         | 1.0 MB    | ###9       |  40% \n",
      "conda-4.12.0         | 1.0 MB    | #######    |  71% \n",
      "conda-4.12.0         | 1.0 MB    | ########## | 100% \n",
      "conda-4.12.0         | 1.0 MB    | ########## | 100% \n",
      "\n",
      "m2w64-gcc-objc-5.3.0 | 15.2 MB   |            |   0% \n",
      "m2w64-gcc-objc-5.3.0 | 15.2 MB   | 1          |   2% \n",
      "m2w64-gcc-objc-5.3.0 | 15.2 MB   | 5          |   5% \n",
      "m2w64-gcc-objc-5.3.0 | 15.2 MB   | 9          |   9% \n",
      "m2w64-gcc-objc-5.3.0 | 15.2 MB   | #2         |  13% \n",
      "m2w64-gcc-objc-5.3.0 | 15.2 MB   | #6         |  17% \n",
      "m2w64-gcc-objc-5.3.0 | 15.2 MB   | ##         |  21% \n",
      "m2w64-gcc-objc-5.3.0 | 15.2 MB   | ##4        |  25% \n",
      "m2w64-gcc-objc-5.3.0 | 15.2 MB   | ##8        |  28% \n",
      "m2w64-gcc-objc-5.3.0 | 15.2 MB   | ###2       |  32% \n",
      "m2w64-gcc-objc-5.3.0 | 15.2 MB   | ###6       |  36% \n",
      "m2w64-gcc-objc-5.3.0 | 15.2 MB   | ####       |  40% \n",
      "m2w64-gcc-objc-5.3.0 | 15.2 MB   | ####4      |  44% \n",
      "m2w64-gcc-objc-5.3.0 | 15.2 MB   | ####8      |  48% \n",
      "m2w64-gcc-objc-5.3.0 | 15.2 MB   | #####1     |  52% \n",
      "m2w64-gcc-objc-5.3.0 | 15.2 MB   | #####6     |  56% \n",
      "m2w64-gcc-objc-5.3.0 | 15.2 MB   | ######     |  60% \n",
      "m2w64-gcc-objc-5.3.0 | 15.2 MB   | ######4    |  64% \n",
      "m2w64-gcc-objc-5.3.0 | 15.2 MB   | ######8    |  68% \n",
      "m2w64-gcc-objc-5.3.0 | 15.2 MB   | #######2   |  72% \n",
      "m2w64-gcc-objc-5.3.0 | 15.2 MB   | #######6   |  76% \n",
      "m2w64-gcc-objc-5.3.0 | 15.2 MB   | ########   |  80% \n",
      "m2w64-gcc-objc-5.3.0 | 15.2 MB   | ########3  |  84% \n",
      "m2w64-gcc-objc-5.3.0 | 15.2 MB   | ########7  |  87% \n",
      "m2w64-gcc-objc-5.3.0 | 15.2 MB   | ########9  |  90% \n",
      "m2w64-gcc-objc-5.3.0 | 15.2 MB   | #########3 |  94% \n",
      "m2w64-gcc-objc-5.3.0 | 15.2 MB   | #########8 |  98% \n",
      "m2w64-gcc-objc-5.3.0 | 15.2 MB   | ########## | 100% \n",
      "\n",
      "m2w64-crt-git-5.0.0. | 3.4 MB    |            |   0% \n",
      "m2w64-crt-git-5.0.0. | 3.4 MB    | #1         |  12% \n",
      "m2w64-crt-git-5.0.0. | 3.4 MB    | ##4        |  25% \n",
      "m2w64-crt-git-5.0.0. | 3.4 MB    | ####1      |  41% \n",
      "m2w64-crt-git-5.0.0. | 3.4 MB    | #####7     |  57% \n",
      "m2w64-crt-git-5.0.0. | 3.4 MB    | #######4   |  75% \n",
      "m2w64-crt-git-5.0.0. | 3.4 MB    | #########  |  91% \n",
      "m2w64-crt-git-5.0.0. | 3.4 MB    | ########## | 100% \n",
      "\n",
      "fbprophet-0.7.1      | 567 KB    |            |   0% \n",
      "fbprophet-0.7.1      | 567 KB    | #######    |  71% \n",
      "fbprophet-0.7.1      | 567 KB    | ########## | 100% \n",
      "\n",
      "ca-certificates-2021 | 176 KB    |            |   0% \n",
      "ca-certificates-2021 | 176 KB    | ########## | 100% \n",
      "ca-certificates-2021 | 176 KB    | ########## | 100% \n",
      "\n",
      "m2w64-pkg-config-0.2 | 467 KB    |            |   0% \n",
      "m2w64-pkg-config-0.2 | 467 KB    | #####4     |  55% \n",
      "m2w64-pkg-config-0.2 | 467 KB    | ########## | 100% \n",
      "\n",
      "m2w64-toolchain_win- | 4 KB      |            |   0% \n",
      "m2w64-toolchain_win- | 4 KB      | ########## | 100% \n",
      "\n",
      "chardet-4.0.0        | 217 KB    |            |   0% \n",
      "chardet-4.0.0        | 217 KB    | ########## | 100% \n",
      "chardet-4.0.0        | 217 KB    | ########## | 100% \n",
      "\n",
      "python_abi-3.7       | 4 KB      |            |   0% \n",
      "python_abi-3.7       | 4 KB      | ########## | 100% \n",
      "\n",
      "certifi-2021.10.8    | 145 KB    |            |   0% \n",
      "certifi-2021.10.8    | 145 KB    | ###3       |  33% \n",
      "certifi-2021.10.8    | 145 KB    | ########## | 100% \n",
      "\n",
      "m2w64-gcc-ada-5.3.0  | 33.3 MB   |            |   0% \n",
      "m2w64-gcc-ada-5.3.0  | 33.3 MB   | 1          |   1% \n",
      "m2w64-gcc-ada-5.3.0  | 33.3 MB   | 2          |   3% \n",
      "m2w64-gcc-ada-5.3.0  | 33.3 MB   | 4          |   4% \n",
      "m2w64-gcc-ada-5.3.0  | 33.3 MB   | 6          |   6% \n",
      "m2w64-gcc-ada-5.3.0  | 33.3 MB   | 7          |   8% \n",
      "m2w64-gcc-ada-5.3.0  | 33.3 MB   | 9          |  10% \n",
      "m2w64-gcc-ada-5.3.0  | 33.3 MB   | #1         |  11% \n",
      "m2w64-gcc-ada-5.3.0  | 33.3 MB   | #2         |  13% \n",
      "m2w64-gcc-ada-5.3.0  | 33.3 MB   | #4         |  15% \n",
      "m2w64-gcc-ada-5.3.0  | 33.3 MB   | #6         |  16% \n",
      "m2w64-gcc-ada-5.3.0  | 33.3 MB   | #7         |  18% \n",
      "m2w64-gcc-ada-5.3.0  | 33.3 MB   | #9         |  19% \n",
      "m2w64-gcc-ada-5.3.0  | 33.3 MB   | ##         |  21% \n",
      "m2w64-gcc-ada-5.3.0  | 33.3 MB   | ##2        |  23% \n",
      "m2w64-gcc-ada-5.3.0  | 33.3 MB   | ##4        |  25% \n",
      "m2w64-gcc-ada-5.3.0  | 33.3 MB   | ##6        |  26% \n",
      "m2w64-gcc-ada-5.3.0  | 33.3 MB   | ##8        |  28% \n",
      "m2w64-gcc-ada-5.3.0  | 33.3 MB   | ###        |  30% \n",
      "m2w64-gcc-ada-5.3.0  | 33.3 MB   | ###2       |  32% \n",
      "m2w64-gcc-ada-5.3.0  | 33.3 MB   | ###3       |  34% \n",
      "m2w64-gcc-ada-5.3.0  | 33.3 MB   | ###5       |  36% \n",
      "m2w64-gcc-ada-5.3.0  | 33.3 MB   | ###7       |  38% \n",
      "m2w64-gcc-ada-5.3.0  | 33.3 MB   | ###9       |  40% \n",
      "m2w64-gcc-ada-5.3.0  | 33.3 MB   | ####1      |  41% \n",
      "m2w64-gcc-ada-5.3.0  | 33.3 MB   | ####3      |  43% \n",
      "m2w64-gcc-ada-5.3.0  | 33.3 MB   | ####4      |  45% \n",
      "m2w64-gcc-ada-5.3.0  | 33.3 MB   | ####6      |  46% \n",
      "m2w64-gcc-ada-5.3.0  | 33.3 MB   | ####7      |  48% \n",
      "m2w64-gcc-ada-5.3.0  | 33.3 MB   | ####9      |  50% \n",
      "m2w64-gcc-ada-5.3.0  | 33.3 MB   | #####1     |  51% \n",
      "m2w64-gcc-ada-5.3.0  | 33.3 MB   | #####3     |  53% \n",
      "m2w64-gcc-ada-5.3.0  | 33.3 MB   | #####4     |  55% \n",
      "m2w64-gcc-ada-5.3.0  | 33.3 MB   | #####6     |  57% \n",
      "m2w64-gcc-ada-5.3.0  | 33.3 MB   | #####8     |  58% \n",
      "m2w64-gcc-ada-5.3.0  | 33.3 MB   | #####9     |  60% \n",
      "m2w64-gcc-ada-5.3.0  | 33.3 MB   | ######1    |  62% \n",
      "m2w64-gcc-ada-5.3.0  | 33.3 MB   | ######3    |  63% \n",
      "m2w64-gcc-ada-5.3.0  | 33.3 MB   | ######4    |  65% \n",
      "m2w64-gcc-ada-5.3.0  | 33.3 MB   | ######6    |  67% \n",
      "m2w64-gcc-ada-5.3.0  | 33.3 MB   | ######8    |  68% \n",
      "m2w64-gcc-ada-5.3.0  | 33.3 MB   | #######    |  70% \n",
      "m2w64-gcc-ada-5.3.0  | 33.3 MB   | #######1   |  72% \n",
      "m2w64-gcc-ada-5.3.0  | 33.3 MB   | #######3   |  73% \n",
      "m2w64-gcc-ada-5.3.0  | 33.3 MB   | #######5   |  75% \n",
      "m2w64-gcc-ada-5.3.0  | 33.3 MB   | #######6   |  77% \n",
      "m2w64-gcc-ada-5.3.0  | 33.3 MB   | #######8   |  79% \n",
      "m2w64-gcc-ada-5.3.0  | 33.3 MB   | ########   |  80% \n",
      "m2w64-gcc-ada-5.3.0  | 33.3 MB   | ########2  |  82% \n",
      "m2w64-gcc-ada-5.3.0  | 33.3 MB   | ########3  |  84% \n",
      "m2w64-gcc-ada-5.3.0  | 33.3 MB   | ########5  |  86% \n",
      "m2w64-gcc-ada-5.3.0  | 33.3 MB   | ########7  |  87% \n",
      "m2w64-gcc-ada-5.3.0  | 33.3 MB   | ########8  |  89% \n",
      "m2w64-gcc-ada-5.3.0  | 33.3 MB   | #########  |  91% \n",
      "m2w64-gcc-ada-5.3.0  | 33.3 MB   | #########2 |  92% \n",
      "m2w64-gcc-ada-5.3.0  | 33.3 MB   | #########3 |  94% \n",
      "m2w64-gcc-ada-5.3.0  | 33.3 MB   | #########5 |  95% \n",
      "m2w64-gcc-ada-5.3.0  | 33.3 MB   | #########6 |  97% \n",
      "m2w64-gcc-ada-5.3.0  | 33.3 MB   | #########8 |  98% \n",
      "m2w64-gcc-ada-5.3.0  | 33.3 MB   | ########## | 100% \n",
      "m2w64-gcc-ada-5.3.0  | 33.3 MB   | ########## | 100% \n",
      "\n",
      "lunarcalendar-0.0.9  | 20 KB     |            |   0% \n",
      "lunarcalendar-0.0.9  | 20 KB     | ########## | 100% \n",
      "\n",
      "ephem-4.1.3          | 1.3 MB    |            |   0% \n",
      "ephem-4.1.3          | 1.3 MB    | ###1       |  32% \n",
      "ephem-4.1.3          | 1.3 MB    | #######4   |  75% \n",
      "ephem-4.1.3          | 1.3 MB    | ########## | 100% \n",
      "\n",
      "openssl-1.1.1l       | 5.7 MB    |            |   0% \n",
      "openssl-1.1.1l       | 5.7 MB    | 6          |   7% \n",
      "openssl-1.1.1l       | 5.7 MB    | #6         |  16% \n",
      "openssl-1.1.1l       | 5.7 MB    | ###        |  31% \n",
      "openssl-1.1.1l       | 5.7 MB    | ####1      |  41% \n",
      "openssl-1.1.1l       | 5.7 MB    | #####1     |  52% \n",
      "openssl-1.1.1l       | 5.7 MB    | ######1    |  62% \n",
      "openssl-1.1.1l       | 5.7 MB    | #######2   |  72% \n",
      "openssl-1.1.1l       | 5.7 MB    | ########3  |  83% \n",
      "openssl-1.1.1l       | 5.7 MB    | #########3 |  94% \n",
      "openssl-1.1.1l       | 5.7 MB    | ########## | 100% \n",
      "\n",
      "m2w64-zlib-1.2.8     | 199 KB    |            |   0% \n",
      "m2w64-zlib-1.2.8     | 199 KB    | ########## | 100% \n",
      "m2w64-zlib-1.2.8     | 199 KB    | ########## | 100% \n",
      "\n",
      "arviz-0.11.4         | 1.4 MB    |            |   0% \n",
      "arviz-0.11.4         | 1.4 MB    | ##9        |  29% \n",
      "arviz-0.11.4         | 1.4 MB    | #######3   |  74% \n",
      "arviz-0.11.4         | 1.4 MB    | ########## | 100% \n",
      "\n",
      "m2w64-gcc-5.3.0      | 40.8 MB   |            |   0% \n",
      "m2w64-gcc-5.3.0      | 40.8 MB   |            |   1% \n",
      "m2w64-gcc-5.3.0      | 40.8 MB   | 2          |   2% \n",
      "m2w64-gcc-5.3.0      | 40.8 MB   | 3          |   4% \n",
      "m2w64-gcc-5.3.0      | 40.8 MB   | 5          |   5% \n",
      "m2w64-gcc-5.3.0      | 40.8 MB   | 6          |   7% \n",
      "m2w64-gcc-5.3.0      | 40.8 MB   | 8          |   8% \n",
      "m2w64-gcc-5.3.0      | 40.8 MB   | 9          |  10% \n",
      "m2w64-gcc-5.3.0      | 40.8 MB   | #          |  11% \n",
      "m2w64-gcc-5.3.0      | 40.8 MB   | #2         |  12% \n",
      "m2w64-gcc-5.3.0      | 40.8 MB   | #3         |  14% \n",
      "m2w64-gcc-5.3.0      | 40.8 MB   | #4         |  15% \n",
      "m2w64-gcc-5.3.0      | 40.8 MB   | #6         |  16% \n",
      "m2w64-gcc-5.3.0      | 40.8 MB   | #7         |  18% \n",
      "m2w64-gcc-5.3.0      | 40.8 MB   | #9         |  19% \n",
      "m2w64-gcc-5.3.0      | 40.8 MB   | ##         |  21% \n",
      "m2w64-gcc-5.3.0      | 40.8 MB   | ##2        |  22% \n",
      "m2w64-gcc-5.3.0      | 40.8 MB   | ##3        |  24% \n",
      "m2w64-gcc-5.3.0      | 40.8 MB   | ##5        |  25% \n",
      "m2w64-gcc-5.3.0      | 40.8 MB   | ##6        |  26% \n",
      "m2w64-gcc-5.3.0      | 40.8 MB   | ##7        |  28% \n",
      "m2w64-gcc-5.3.0      | 40.8 MB   | ##9        |  29% \n",
      "m2w64-gcc-5.3.0      | 40.8 MB   | ###        |  31% \n",
      "m2w64-gcc-5.3.0      | 40.8 MB   | ###2       |  32% \n",
      "m2w64-gcc-5.3.0      | 40.8 MB   | ###3       |  34% \n",
      "m2w64-gcc-5.3.0      | 40.8 MB   | ###4       |  35% \n",
      "m2w64-gcc-5.3.0      | 40.8 MB   | ###6       |  36% \n",
      "m2w64-gcc-5.3.0      | 40.8 MB   | ###7       |  38% \n",
      "m2w64-gcc-5.3.0      | 40.8 MB   | ###9       |  39% \n",
      "m2w64-gcc-5.3.0      | 40.8 MB   | ####       |  41% \n",
      "m2w64-gcc-5.3.0      | 40.8 MB   | ####1      |  42% \n",
      "m2w64-gcc-5.3.0      | 40.8 MB   | ####2      |  43% \n",
      "m2w64-gcc-5.3.0      | 40.8 MB   | ####4      |  44% \n",
      "m2w64-gcc-5.3.0      | 40.8 MB   | ####5      |  45% \n",
      "m2w64-gcc-5.3.0      | 40.8 MB   | ####6      |  47% \n",
      "m2w64-gcc-5.3.0      | 40.8 MB   | ####7      |  48% \n",
      "m2w64-gcc-5.3.0      | 40.8 MB   | ####8      |  49% \n",
      "m2w64-gcc-5.3.0      | 40.8 MB   | #####      |  50% \n",
      "m2w64-gcc-5.3.0      | 40.8 MB   | #####1     |  52% \n",
      "m2w64-gcc-5.3.0      | 40.8 MB   | #####2     |  53% \n",
      "m2w64-gcc-5.3.0      | 40.8 MB   | #####4     |  55% \n",
      "m2w64-gcc-5.3.0      | 40.8 MB   | #####5     |  56% \n",
      "m2w64-gcc-5.3.0      | 40.8 MB   | #####7     |  57% \n",
      "m2w64-gcc-5.3.0      | 40.8 MB   | #####8     |  59% \n",
      "m2w64-gcc-5.3.0      | 40.8 MB   | #####9     |  60% \n",
      "m2w64-gcc-5.3.0      | 40.8 MB   | ######1    |  61% \n",
      "m2w64-gcc-5.3.0      | 40.8 MB   | ######2    |  63% \n",
      "m2w64-gcc-5.3.0      | 40.8 MB   | ######4    |  64% \n",
      "m2w64-gcc-5.3.0      | 40.8 MB   | ######5    |  66% \n",
      "m2w64-gcc-5.3.0      | 40.8 MB   | ######6    |  67% \n",
      "m2w64-gcc-5.3.0      | 40.8 MB   | ######8    |  68% \n",
      "m2w64-gcc-5.3.0      | 40.8 MB   | ######9    |  70% \n",
      "m2w64-gcc-5.3.0      | 40.8 MB   | #######1   |  71% \n",
      "m2w64-gcc-5.3.0      | 40.8 MB   | #######2   |  72% \n",
      "m2w64-gcc-5.3.0      | 40.8 MB   | #######3   |  74% \n",
      "m2w64-gcc-5.3.0      | 40.8 MB   | #######5   |  75% \n",
      "m2w64-gcc-5.3.0      | 40.8 MB   | #######6   |  77% \n",
      "m2w64-gcc-5.3.0      | 40.8 MB   | #######8   |  78% \n",
      "m2w64-gcc-5.3.0      | 40.8 MB   | #######9   |  80% \n",
      "m2w64-gcc-5.3.0      | 40.8 MB   | ########1  |  81% \n",
      "m2w64-gcc-5.3.0      | 40.8 MB   | ########2  |  82% \n",
      "m2w64-gcc-5.3.0      | 40.8 MB   | ########3  |  84% \n",
      "m2w64-gcc-5.3.0      | 40.8 MB   | ########5  |  85% \n",
      "m2w64-gcc-5.3.0      | 40.8 MB   | ########6  |  86% \n",
      "m2w64-gcc-5.3.0      | 40.8 MB   | ########7  |  87% \n",
      "m2w64-gcc-5.3.0      | 40.8 MB   | ########8  |  89% \n",
      "m2w64-gcc-5.3.0      | 40.8 MB   | #########  |  90% \n",
      "m2w64-gcc-5.3.0      | 40.8 MB   | #########1 |  91% \n",
      "m2w64-gcc-5.3.0      | 40.8 MB   | #########2 |  93% \n",
      "m2w64-gcc-5.3.0      | 40.8 MB   | #########4 |  94% \n",
      "m2w64-gcc-5.3.0      | 40.8 MB   | #########5 |  95% \n",
      "m2w64-gcc-5.3.0      | 40.8 MB   | #########6 |  97% \n",
      "m2w64-gcc-5.3.0      | 40.8 MB   | #########7 |  98% \n",
      "m2w64-gcc-5.3.0      | 40.8 MB   | #########9 |  99% \n",
      "m2w64-gcc-5.3.0      | 40.8 MB   | ########## | 100% \n",
      "\n",
      "hijri-converter-2.2. | 17 KB     |            |   0% \n",
      "hijri-converter-2.2. | 17 KB     | ########## | 100% \n",
      "\n",
      "korean_lunar_calenda | 10 KB     |            |   0% \n",
      "korean_lunar_calenda | 10 KB     | ########## | 100% \n",
      "\n",
      "pystan-2.19.1.1      | 35.8 MB   |            |   0% \n",
      "pystan-2.19.1.1      | 35.8 MB   | 1          |   1% \n",
      "pystan-2.19.1.1      | 35.8 MB   | 2          |   3% \n",
      "pystan-2.19.1.1      | 35.8 MB   | 4          |   4% \n",
      "pystan-2.19.1.1      | 35.8 MB   | 5          |   6% \n",
      "pystan-2.19.1.1      | 35.8 MB   | 6          |   7% \n",
      "pystan-2.19.1.1      | 35.8 MB   | 8          |   8% \n",
      "pystan-2.19.1.1      | 35.8 MB   | 9          |  10% \n",
      "pystan-2.19.1.1      | 35.8 MB   | #          |  11% \n",
      "pystan-2.19.1.1      | 35.8 MB   | #2         |  13% \n",
      "pystan-2.19.1.1      | 35.8 MB   | #4         |  14% \n",
      "pystan-2.19.1.1      | 35.8 MB   | #5         |  16% \n",
      "pystan-2.19.1.1      | 35.8 MB   | #7         |  17% \n",
      "pystan-2.19.1.1      | 35.8 MB   | #8         |  19% \n",
      "pystan-2.19.1.1      | 35.8 MB   | ##         |  20% \n",
      "pystan-2.19.1.1      | 35.8 MB   | ##1        |  22% \n",
      "pystan-2.19.1.1      | 35.8 MB   | ##3        |  23% \n",
      "pystan-2.19.1.1      | 35.8 MB   | ##4        |  25% \n",
      "pystan-2.19.1.1      | 35.8 MB   | ##5        |  26% \n",
      "pystan-2.19.1.1      | 35.8 MB   | ##7        |  27% \n",
      "pystan-2.19.1.1      | 35.8 MB   | ##8        |  29% \n",
      "pystan-2.19.1.1      | 35.8 MB   | ###        |  30% \n",
      "pystan-2.19.1.1      | 35.8 MB   | ###1       |  31% \n",
      "pystan-2.19.1.1      | 35.8 MB   | ###2       |  33% \n",
      "pystan-2.19.1.1      | 35.8 MB   | ###4       |  34% \n",
      "pystan-2.19.1.1      | 35.8 MB   | ###5       |  35% \n",
      "pystan-2.19.1.1      | 35.8 MB   | ###7       |  37% \n",
      "pystan-2.19.1.1      | 35.8 MB   | ###8       |  39% \n",
      "pystan-2.19.1.1      | 35.8 MB   | ####       |  40% \n",
      "pystan-2.19.1.1      | 35.8 MB   | ####1      |  42% \n",
      "pystan-2.19.1.1      | 35.8 MB   | ####3      |  44% \n",
      "pystan-2.19.1.1      | 35.8 MB   | ####5      |  45% \n",
      "pystan-2.19.1.1      | 35.8 MB   | ####6      |  47% \n",
      "pystan-2.19.1.1      | 35.8 MB   | ####8      |  49% \n",
      "pystan-2.19.1.1      | 35.8 MB   | #####      |  50% \n",
      "pystan-2.19.1.1      | 35.8 MB   | #####2     |  52% \n",
      "pystan-2.19.1.1      | 35.8 MB   | #####3     |  54% \n",
      "pystan-2.19.1.1      | 35.8 MB   | #####5     |  55% \n",
      "pystan-2.19.1.1      | 35.8 MB   | #####6     |  57% \n",
      "pystan-2.19.1.1      | 35.8 MB   | #####8     |  58% \n",
      "pystan-2.19.1.1      | 35.8 MB   | ######     |  60% \n",
      "pystan-2.19.1.1      | 35.8 MB   | ######1    |  62% \n",
      "pystan-2.19.1.1      | 35.8 MB   | ######3    |  63% \n",
      "pystan-2.19.1.1      | 35.8 MB   | ######4    |  65% \n",
      "pystan-2.19.1.1      | 35.8 MB   | ######6    |  67% \n",
      "pystan-2.19.1.1      | 35.8 MB   | ######8    |  68% \n",
      "pystan-2.19.1.1      | 35.8 MB   | ######9    |  70% \n",
      "pystan-2.19.1.1      | 35.8 MB   | #######1   |  71% \n",
      "pystan-2.19.1.1      | 35.8 MB   | #######2   |  73% \n",
      "pystan-2.19.1.1      | 35.8 MB   | #######4   |  74% \n",
      "pystan-2.19.1.1      | 35.8 MB   | #######6   |  76% \n",
      "pystan-2.19.1.1      | 35.8 MB   | #######7   |  78% \n",
      "pystan-2.19.1.1      | 35.8 MB   | #######9   |  79% \n",
      "pystan-2.19.1.1      | 35.8 MB   | ########   |  81% \n",
      "pystan-2.19.1.1      | 35.8 MB   | ########2  |  82% \n",
      "pystan-2.19.1.1      | 35.8 MB   | ########4  |  84% \n",
      "pystan-2.19.1.1      | 35.8 MB   | ########5  |  86% \n",
      "pystan-2.19.1.1      | 35.8 MB   | ########7  |  87% \n",
      "pystan-2.19.1.1      | 35.8 MB   | ########9  |  89% \n",
      "pystan-2.19.1.1      | 35.8 MB   | #########  |  91% \n",
      "pystan-2.19.1.1      | 35.8 MB   | #########2 |  93% \n",
      "pystan-2.19.1.1      | 35.8 MB   | #########4 |  94% \n",
      "pystan-2.19.1.1      | 35.8 MB   | #########5 |  96% \n",
      "pystan-2.19.1.1      | 35.8 MB   | #########7 |  97% \n",
      "pystan-2.19.1.1      | 35.8 MB   | #########8 |  99% \n",
      "pystan-2.19.1.1      | 35.8 MB   | ########## | 100% \n",
      "pystan-2.19.1.1      | 35.8 MB   | ########## | 100% \n",
      "\n",
      "m2w64-binutils-2.25. | 44.3 MB   |            |   0% \n",
      "m2w64-binutils-2.25. | 44.3 MB   |            |   0% \n",
      "m2w64-binutils-2.25. | 44.3 MB   | 1          |   1% \n",
      "m2w64-binutils-2.25. | 44.3 MB   | 2          |   3% \n",
      "m2w64-binutils-2.25. | 44.3 MB   | 4          |   4% \n",
      "m2w64-binutils-2.25. | 44.3 MB   | 5          |   6% \n",
      "m2w64-binutils-2.25. | 44.3 MB   | 6          |   7% \n",
      "m2w64-binutils-2.25. | 44.3 MB   | 8          |   8% \n",
      "m2w64-binutils-2.25. | 44.3 MB   | 9          |   9% \n",
      "m2w64-binutils-2.25. | 44.3 MB   | #          |  11% \n",
      "m2w64-binutils-2.25. | 44.3 MB   | #1         |  12% \n",
      "m2w64-binutils-2.25. | 44.3 MB   | #3         |  13% \n",
      "m2w64-binutils-2.25. | 44.3 MB   | #4         |  15% \n",
      "m2w64-binutils-2.25. | 44.3 MB   | #6         |  16% \n",
      "m2w64-binutils-2.25. | 44.3 MB   | #7         |  17% \n",
      "m2w64-binutils-2.25. | 44.3 MB   | #8         |  19% \n",
      "m2w64-binutils-2.25. | 44.3 MB   | #9         |  20% \n",
      "m2w64-binutils-2.25. | 44.3 MB   | ##1        |  21% \n",
      "m2w64-binutils-2.25. | 44.3 MB   | ##2        |  23% \n",
      "m2w64-binutils-2.25. | 44.3 MB   | ##4        |  24% \n",
      "m2w64-binutils-2.25. | 44.3 MB   | ##5        |  25% \n",
      "m2w64-binutils-2.25. | 44.3 MB   | ##6        |  27% \n",
      "m2w64-binutils-2.25. | 44.3 MB   | ##8        |  28% \n",
      "m2w64-binutils-2.25. | 44.3 MB   | ##9        |  29% \n",
      "m2w64-binutils-2.25. | 44.3 MB   | ###        |  31% \n",
      "m2w64-binutils-2.25. | 44.3 MB   | ###2       |  32% \n",
      "m2w64-binutils-2.25. | 44.3 MB   | ###3       |  34% \n",
      "m2w64-binutils-2.25. | 44.3 MB   | ###5       |  35% \n",
      "m2w64-binutils-2.25. | 44.3 MB   | ###6       |  36% \n",
      "m2w64-binutils-2.25. | 44.3 MB   | ###7       |  38% \n",
      "m2w64-binutils-2.25. | 44.3 MB   | ###9       |  39% \n",
      "m2w64-binutils-2.25. | 44.3 MB   | ####       |  41% \n",
      "m2w64-binutils-2.25. | 44.3 MB   | ####2      |  42% \n",
      "m2w64-binutils-2.25. | 44.3 MB   | ####3      |  43% \n",
      "m2w64-binutils-2.25. | 44.3 MB   | ####4      |  45% \n",
      "m2w64-binutils-2.25. | 44.3 MB   | ####6      |  46% \n",
      "m2w64-binutils-2.25. | 44.3 MB   | ####7      |  48% \n",
      "m2w64-binutils-2.25. | 44.3 MB   | ####8      |  49% \n",
      "m2w64-binutils-2.25. | 44.3 MB   | ####9      |  50% \n",
      "m2w64-binutils-2.25. | 44.3 MB   | #####      |  51% \n",
      "m2w64-binutils-2.25. | 44.3 MB   | #####1     |  52% \n",
      "m2w64-binutils-2.25. | 44.3 MB   | #####3     |  53% \n",
      "m2w64-binutils-2.25. | 44.3 MB   | #####4     |  54% \n",
      "m2w64-binutils-2.25. | 44.3 MB   | #####5     |  55% \n",
      "m2w64-binutils-2.25. | 44.3 MB   | #####6     |  57% \n",
      "m2w64-binutils-2.25. | 44.3 MB   | #####8     |  58% \n",
      "m2w64-binutils-2.25. | 44.3 MB   | #####9     |  59% \n",
      "m2w64-binutils-2.25. | 44.3 MB   | ######     |  61% \n",
      "m2w64-binutils-2.25. | 44.3 MB   | ######1    |  62% \n",
      "m2w64-binutils-2.25. | 44.3 MB   | ######3    |  63% \n",
      "m2w64-binutils-2.25. | 44.3 MB   | ######4    |  64% \n",
      "m2w64-binutils-2.25. | 44.3 MB   | ######5    |  66% \n",
      "m2w64-binutils-2.25. | 44.3 MB   | ######6    |  67% \n",
      "m2w64-binutils-2.25. | 44.3 MB   | ######8    |  68% \n",
      "m2w64-binutils-2.25. | 44.3 MB   | ######9    |  70% \n",
      "m2w64-binutils-2.25. | 44.3 MB   | #######1   |  71% \n",
      "m2w64-binutils-2.25. | 44.3 MB   | #######2   |  72% \n",
      "m2w64-binutils-2.25. | 44.3 MB   | #######3   |  74% \n",
      "m2w64-binutils-2.25. | 44.3 MB   | #######5   |  75% \n",
      "m2w64-binutils-2.25. | 44.3 MB   | #######6   |  77% \n",
      "m2w64-binutils-2.25. | 44.3 MB   | #######7   |  78% \n",
      "m2w64-binutils-2.25. | 44.3 MB   | #######9   |  79% \n",
      "m2w64-binutils-2.25. | 44.3 MB   | ########   |  81% \n",
      "m2w64-binutils-2.25. | 44.3 MB   | ########2  |  82% \n",
      "m2w64-binutils-2.25. | 44.3 MB   | ########3  |  84% \n",
      "m2w64-binutils-2.25. | 44.3 MB   | ########5  |  85% \n",
      "m2w64-binutils-2.25. | 44.3 MB   | ########6  |  86% \n",
      "m2w64-binutils-2.25. | 44.3 MB   | ########7  |  88% \n",
      "m2w64-binutils-2.25. | 44.3 MB   | ########9  |  89% \n",
      "m2w64-binutils-2.25. | 44.3 MB   | #########  |  91% \n",
      "m2w64-binutils-2.25. | 44.3 MB   | #########1 |  92% \n",
      "m2w64-binutils-2.25. | 44.3 MB   | #########3 |  93% \n",
      "m2w64-binutils-2.25. | 44.3 MB   | #########4 |  95% \n",
      "m2w64-binutils-2.25. | 44.3 MB   | #########6 |  96% \n",
      "m2w64-binutils-2.25. | 44.3 MB   | #########7 |  97% \n",
      "m2w64-binutils-2.25. | 44.3 MB   | #########8 |  99% \n",
      "m2w64-binutils-2.25. | 44.3 MB   | ########## | 100% \n",
      "\n",
      "m2w64-headers-git-5. | 5.6 MB    |            |   0% \n",
      "m2w64-headers-git-5. | 5.6 MB    | 5          |   6% \n",
      "m2w64-headers-git-5. | 5.6 MB    | #5         |  15% \n",
      "m2w64-headers-git-5. | 5.6 MB    | ##4        |  25% \n",
      "m2w64-headers-git-5. | 5.6 MB    | ###3       |  34% \n",
      "m2w64-headers-git-5. | 5.6 MB    | ####5      |  46% \n",
      "m2w64-headers-git-5. | 5.6 MB    | #####5     |  56% \n",
      "m2w64-headers-git-5. | 5.6 MB    | ######5    |  66% \n",
      "m2w64-headers-git-5. | 5.6 MB    | #######6   |  77% \n",
      "m2w64-headers-git-5. | 5.6 MB    | ########7  |  87% \n",
      "m2w64-headers-git-5. | 5.6 MB    | #########7 |  97% \n",
      "m2w64-headers-git-5. | 5.6 MB    | ########## | 100% \n",
      "\n",
      "pymeeus-0.5.10       | 534 KB    |            |   0% \n",
      "pymeeus-0.5.10       | 534 KB    | 2          |   3% \n",
      "pymeeus-0.5.10       | 534 KB    | ##         |  21% \n",
      "pymeeus-0.5.10       | 534 KB    | ######5    |  66% \n",
      "pymeeus-0.5.10       | 534 KB    | ########## | 100% \n",
      "pymeeus-0.5.10       | 534 KB    | ########## | 100% \n",
      "\n",
      "m2w64-winpthreads-gi | 47 KB     |            |   0% \n",
      "m2w64-winpthreads-gi | 47 KB     | ########## | 100% \n",
      "m2w64-winpthreads-gi | 47 KB     | ########## | 100% \n",
      "\n",
      "m2w64-mpfr-3.1.4     | 294 KB    |            |   0% \n",
      "m2w64-mpfr-3.1.4     | 294 KB    | 5          |   5% \n",
      "m2w64-mpfr-3.1.4     | 294 KB    | ########## | 100% \n",
      "m2w64-mpfr-3.1.4     | 294 KB    | ########## | 100% \n",
      "\n",
      "m2w64-toolchain-5.3. | 3 KB      |            |   0% \n",
      "m2w64-toolchain-5.3. | 3 KB      | ########## | 100% \n",
      "m2w64-toolchain-5.3. | 3 KB      | ########## | 100% \n",
      "\n",
      "m2w64-tools-git-5.0. | 320 KB    |            |   0% \n",
      "m2w64-tools-git-5.0. | 320 KB    | ########## | 100% \n",
      "m2w64-tools-git-5.0. | 320 KB    | ########## | 100% \n",
      "\n",
      "m2w64-isl-0.16.1     | 655 KB    |            |   0% \n",
      "m2w64-isl-0.16.1     | 655 KB    | ######1    |  61% \n",
      "m2w64-isl-0.16.1     | 655 KB    | ########## | 100% \n",
      "\n",
      "m2w64-libiconv-1.14  | 1.5 MB    |            |   0% \n",
      "m2w64-libiconv-1.14  | 1.5 MB    | ##5        |  26% \n",
      "m2w64-libiconv-1.14  | 1.5 MB    | ######3    |  64% \n",
      "m2w64-libiconv-1.14  | 1.5 MB    | ########## | 100% \n",
      "m2w64-libiconv-1.14  | 1.5 MB    | ########## | 100% \n",
      "\n",
      "m2w64-windows-defaul | 5 KB      |            |   0% \n",
      "m2w64-windows-defaul | 5 KB      | ########## | 100% \n",
      "Preparing transaction: ...working... done\n",
      "Verifying transaction: ...working... done\n",
      "Executing transaction: ...working... done\n"
     ]
    }
   ],
   "source": [
    "!conda install -c conda-forge fbprophet -y"
   ]
  },
  {
   "cell_type": "markdown",
   "metadata": {},
   "source": [
    "## Install and import the required libraries and dependencies"
   ]
  },
  {
   "cell_type": "code",
   "execution_count": 2,
   "metadata": {},
   "outputs": [
    {
     "name": "stdout",
     "output_type": "stream",
     "text": [
      "Requirement already satisfied: pystan in c:\\backup\\envs\\dev\\envs\\dev\\lib\\site-packages (2.19.1.1)\n",
      "Requirement already satisfied: Cython!=0.25.1,>=0.22 in c:\\backup\\envs\\dev\\envs\\dev\\lib\\site-packages (from pystan) (0.29.25)\n",
      "Requirement already satisfied: numpy>=1.7 in c:\\backup\\envs\\dev\\envs\\dev\\lib\\site-packages (from pystan) (1.20.3)\n",
      "Requirement already satisfied: fbprophet in c:\\backup\\envs\\dev\\envs\\dev\\lib\\site-packages (0.7.1)\n",
      "Requirement already satisfied: setuptools-git>=1.2 in c:\\backup\\envs\\dev\\envs\\dev\\lib\\site-packages (from fbprophet) (1.2)\n",
      "Requirement already satisfied: pystan>=2.14 in c:\\backup\\envs\\dev\\envs\\dev\\lib\\site-packages (from fbprophet) (2.19.1.1)\n",
      "Requirement already satisfied: pandas>=1.0.4 in c:\\backup\\envs\\dev\\envs\\dev\\lib\\site-packages (from fbprophet) (1.3.5)\n",
      "Requirement already satisfied: tqdm>=4.36.1 in c:\\backup\\envs\\dev\\envs\\dev\\lib\\site-packages (from fbprophet) (4.62.3)\n",
      "Requirement already satisfied: cmdstanpy==0.9.5 in c:\\backup\\envs\\dev\\envs\\dev\\lib\\site-packages (from fbprophet) (0.9.5)\n",
      "Requirement already satisfied: numpy>=1.15.4 in c:\\backup\\envs\\dev\\envs\\dev\\lib\\site-packages (from fbprophet) (1.20.3)\n",
      "Requirement already satisfied: holidays>=0.10.2 in c:\\backup\\envs\\dev\\envs\\dev\\lib\\site-packages (from fbprophet) (0.13)\n",
      "Requirement already satisfied: matplotlib>=2.0.0 in c:\\backup\\envs\\dev\\envs\\dev\\lib\\site-packages (from fbprophet) (3.5.0)\n",
      "Requirement already satisfied: convertdate>=2.1.2 in c:\\backup\\envs\\dev\\envs\\dev\\lib\\site-packages (from fbprophet) (2.4.0)\n",
      "Requirement already satisfied: python-dateutil>=2.8.0 in c:\\backup\\envs\\dev\\envs\\dev\\lib\\site-packages (from fbprophet) (2.8.2)\n",
      "Requirement already satisfied: LunarCalendar>=0.0.9 in c:\\backup\\envs\\dev\\envs\\dev\\lib\\site-packages (from fbprophet) (0.0.9)\n",
      "Requirement already satisfied: Cython>=0.22 in c:\\backup\\envs\\dev\\envs\\dev\\lib\\site-packages (from fbprophet) (0.29.25)\n",
      "Requirement already satisfied: pymeeus<=1,>=0.3.13 in c:\\backup\\envs\\dev\\envs\\dev\\lib\\site-packages (from convertdate>=2.1.2->fbprophet) (0.5.11)\n",
      "Requirement already satisfied: hijri-converter in c:\\backup\\envs\\dev\\envs\\dev\\lib\\site-packages (from holidays>=0.10.2->fbprophet) (2.2.3)\n",
      "Requirement already satisfied: korean-lunar-calendar in c:\\backup\\envs\\dev\\envs\\dev\\lib\\site-packages (from holidays>=0.10.2->fbprophet) (0.2.1)\n",
      "Requirement already satisfied: ephem>=3.7.5.3 in c:\\backup\\envs\\dev\\envs\\dev\\lib\\site-packages (from LunarCalendar>=0.0.9->fbprophet) (4.1.3)\n",
      "Requirement already satisfied: pytz in c:\\backup\\envs\\dev\\envs\\dev\\lib\\site-packages (from LunarCalendar>=0.0.9->fbprophet) (2021.3)\n",
      "Requirement already satisfied: fonttools>=4.22.0 in c:\\backup\\envs\\dev\\envs\\dev\\lib\\site-packages (from matplotlib>=2.0.0->fbprophet) (4.25.0)\n",
      "Requirement already satisfied: pyparsing>=2.2.1 in c:\\backup\\envs\\dev\\envs\\dev\\lib\\site-packages (from matplotlib>=2.0.0->fbprophet) (3.0.4)\n",
      "Requirement already satisfied: pillow>=6.2.0 in c:\\backup\\envs\\dev\\envs\\dev\\lib\\site-packages (from matplotlib>=2.0.0->fbprophet) (8.4.0)\n",
      "Requirement already satisfied: kiwisolver>=1.0.1 in c:\\backup\\envs\\dev\\envs\\dev\\lib\\site-packages (from matplotlib>=2.0.0->fbprophet) (1.3.1)\n",
      "Requirement already satisfied: packaging>=20.0 in c:\\backup\\envs\\dev\\envs\\dev\\lib\\site-packages (from matplotlib>=2.0.0->fbprophet) (21.3)\n",
      "Requirement already satisfied: cycler>=0.10 in c:\\backup\\envs\\dev\\envs\\dev\\lib\\site-packages (from matplotlib>=2.0.0->fbprophet) (0.11.0)\n",
      "Requirement already satisfied: six>=1.5 in c:\\backup\\envs\\dev\\envs\\dev\\lib\\site-packages (from python-dateutil>=2.8.0->fbprophet) (1.16.0)\n",
      "Requirement already satisfied: colorama in c:\\backup\\envs\\dev\\envs\\dev\\lib\\site-packages (from tqdm>=4.36.1->fbprophet) (0.4.4)\n",
      "Requirement already satisfied: hvplot in c:\\backup\\envs\\dev\\envs\\dev\\lib\\site-packages (0.7.3)\n",
      "Requirement already satisfied: bokeh>=1.0.0 in c:\\backup\\envs\\dev\\envs\\dev\\lib\\site-packages (from hvplot) (2.4.2)\n",
      "Requirement already satisfied: colorcet>=2 in c:\\backup\\envs\\dev\\envs\\dev\\lib\\site-packages (from hvplot) (3.0.0)\n",
      "Requirement already satisfied: holoviews>=1.11.0 in c:\\backup\\envs\\dev\\envs\\dev\\lib\\site-packages (from hvplot) (1.14.7)\n",
      "Requirement already satisfied: pandas in c:\\backup\\envs\\dev\\envs\\dev\\lib\\site-packages (from hvplot) (1.3.5)\n",
      "Requirement already satisfied: numpy>=1.15 in c:\\backup\\envs\\dev\\envs\\dev\\lib\\site-packages (from hvplot) (1.20.3)\n",
      "Requirement already satisfied: pillow>=7.1.0 in c:\\backup\\envs\\dev\\envs\\dev\\lib\\site-packages (from bokeh>=1.0.0->hvplot) (8.4.0)\n",
      "Requirement already satisfied: tornado>=5.1 in c:\\backup\\envs\\dev\\envs\\dev\\lib\\site-packages (from bokeh>=1.0.0->hvplot) (6.1)\n",
      "Requirement already satisfied: packaging>=16.8 in c:\\backup\\envs\\dev\\envs\\dev\\lib\\site-packages (from bokeh>=1.0.0->hvplot) (21.3)\n",
      "Requirement already satisfied: PyYAML>=3.10 in c:\\backup\\envs\\dev\\envs\\dev\\lib\\site-packages (from bokeh>=1.0.0->hvplot) (6.0)\n",
      "Requirement already satisfied: typing-extensions>=3.10.0 in c:\\backup\\envs\\dev\\envs\\dev\\lib\\site-packages (from bokeh>=1.0.0->hvplot) (3.10.0.2)\n",
      "Requirement already satisfied: Jinja2>=2.9 in c:\\backup\\envs\\dev\\envs\\dev\\lib\\site-packages (from bokeh>=1.0.0->hvplot) (2.11.3)\n",
      "Requirement already satisfied: param>=1.7.0 in c:\\backup\\envs\\dev\\envs\\dev\\lib\\site-packages (from colorcet>=2->hvplot) (1.12.0)\n",
      "Requirement already satisfied: pyct>=0.4.4 in c:\\backup\\envs\\dev\\envs\\dev\\lib\\site-packages (from colorcet>=2->hvplot) (0.4.8)\n",
      "Requirement already satisfied: pyviz_comms>=0.7.4 in c:\\backup\\envs\\dev\\envs\\dev\\lib\\site-packages (from holoviews>=1.11.0->hvplot) (2.1.0)\n",
      "Requirement already satisfied: panel>=0.8.0 in c:\\backup\\envs\\dev\\envs\\dev\\lib\\site-packages (from holoviews>=1.11.0->hvplot) (0.12.6)\n",
      "Requirement already satisfied: MarkupSafe>=0.23 in c:\\backup\\envs\\dev\\envs\\dev\\lib\\site-packages (from Jinja2>=2.9->bokeh>=1.0.0->hvplot) (1.1.1)\n",
      "Requirement already satisfied: pyparsing!=3.0.5,>=2.0.2 in c:\\backup\\envs\\dev\\envs\\dev\\lib\\site-packages (from packaging>=16.8->bokeh>=1.0.0->hvplot) (3.0.4)\n",
      "Requirement already satisfied: pytz>=2017.3 in c:\\backup\\envs\\dev\\envs\\dev\\lib\\site-packages (from pandas->hvplot) (2021.3)\n",
      "Requirement already satisfied: python-dateutil>=2.7.3 in c:\\backup\\envs\\dev\\envs\\dev\\lib\\site-packages (from pandas->hvplot) (2.8.2)\n",
      "Requirement already satisfied: markdown in c:\\backup\\envs\\dev\\envs\\dev\\lib\\site-packages (from panel>=0.8.0->holoviews>=1.11.0->hvplot) (3.3.4)\n",
      "Requirement already satisfied: requests in c:\\backup\\envs\\dev\\envs\\dev\\lib\\site-packages (from panel>=0.8.0->holoviews>=1.11.0->hvplot) (2.27.1)\n",
      "Requirement already satisfied: tqdm>=4.48.0 in c:\\backup\\envs\\dev\\envs\\dev\\lib\\site-packages (from panel>=0.8.0->holoviews>=1.11.0->hvplot) (4.62.3)\n",
      "Requirement already satisfied: bleach in c:\\backup\\envs\\dev\\envs\\dev\\lib\\site-packages (from panel>=0.8.0->holoviews>=1.11.0->hvplot) (4.1.0)\n",
      "Requirement already satisfied: six>=1.5 in c:\\backup\\envs\\dev\\envs\\dev\\lib\\site-packages (from python-dateutil>=2.7.3->pandas->hvplot) (1.16.0)\n",
      "Requirement already satisfied: colorama in c:\\backup\\envs\\dev\\envs\\dev\\lib\\site-packages (from tqdm>=4.48.0->panel>=0.8.0->holoviews>=1.11.0->hvplot) (0.4.4)\n",
      "Requirement already satisfied: webencodings in c:\\backup\\envs\\dev\\envs\\dev\\lib\\site-packages (from bleach->panel>=0.8.0->holoviews>=1.11.0->hvplot) (0.5.1)\n",
      "Requirement already satisfied: importlib-metadata in c:\\backup\\envs\\dev\\envs\\dev\\lib\\site-packages (from markdown->panel>=0.8.0->holoviews>=1.11.0->hvplot) (4.8.2)\n",
      "Requirement already satisfied: zipp>=0.5 in c:\\backup\\envs\\dev\\envs\\dev\\lib\\site-packages (from importlib-metadata->markdown->panel>=0.8.0->holoviews>=1.11.0->hvplot) (3.7.0)\n",
      "Requirement already satisfied: urllib3<1.27,>=1.21.1 in c:\\backup\\envs\\dev\\envs\\dev\\lib\\site-packages (from requests->panel>=0.8.0->holoviews>=1.11.0->hvplot) (1.26.7)\n",
      "Requirement already satisfied: idna<4,>=2.5 in c:\\backup\\envs\\dev\\envs\\dev\\lib\\site-packages (from requests->panel>=0.8.0->holoviews>=1.11.0->hvplot) (3.3)\n",
      "Requirement already satisfied: certifi>=2017.4.17 in c:\\backup\\envs\\dev\\envs\\dev\\lib\\site-packages (from requests->panel>=0.8.0->holoviews>=1.11.0->hvplot) (2021.10.8)\n",
      "Requirement already satisfied: charset-normalizer~=2.0.0 in c:\\backup\\envs\\dev\\envs\\dev\\lib\\site-packages (from requests->panel>=0.8.0->holoviews>=1.11.0->hvplot) (2.0.4)\n",
      "Requirement already satisfied: holoviews in c:\\backup\\envs\\dev\\envs\\dev\\lib\\site-packages (1.14.7)\n",
      "Requirement already satisfied: param<2.0,>=1.9.3 in c:\\backup\\envs\\dev\\envs\\dev\\lib\\site-packages (from holoviews) (1.12.0)\n",
      "Requirement already satisfied: numpy>=1.0 in c:\\backup\\envs\\dev\\envs\\dev\\lib\\site-packages (from holoviews) (1.20.3)\n",
      "Requirement already satisfied: pyviz_comms>=0.7.4 in c:\\backup\\envs\\dev\\envs\\dev\\lib\\site-packages (from holoviews) (2.1.0)\n",
      "Requirement already satisfied: panel>=0.8.0 in c:\\backup\\envs\\dev\\envs\\dev\\lib\\site-packages (from holoviews) (0.12.6)\n",
      "Requirement already satisfied: colorcet in c:\\backup\\envs\\dev\\envs\\dev\\lib\\site-packages (from holoviews) (3.0.0)\n",
      "Requirement already satisfied: pandas>=0.20.0 in c:\\backup\\envs\\dev\\envs\\dev\\lib\\site-packages (from holoviews) (1.3.5)\n",
      "Requirement already satisfied: python-dateutil>=2.7.3 in c:\\backup\\envs\\dev\\envs\\dev\\lib\\site-packages (from pandas>=0.20.0->holoviews) (2.8.2)\n",
      "Requirement already satisfied: pytz>=2017.3 in c:\\backup\\envs\\dev\\envs\\dev\\lib\\site-packages (from pandas>=0.20.0->holoviews) (2021.3)\n",
      "Requirement already satisfied: bokeh<2.5.0,>=2.4.0 in c:\\backup\\envs\\dev\\envs\\dev\\lib\\site-packages (from panel>=0.8.0->holoviews) (2.4.2)\n",
      "Requirement already satisfied: markdown in c:\\backup\\envs\\dev\\envs\\dev\\lib\\site-packages (from panel>=0.8.0->holoviews) (3.3.4)\n",
      "Requirement already satisfied: requests in c:\\backup\\envs\\dev\\envs\\dev\\lib\\site-packages (from panel>=0.8.0->holoviews) (2.27.1)\n",
      "Requirement already satisfied: tqdm>=4.48.0 in c:\\backup\\envs\\dev\\envs\\dev\\lib\\site-packages (from panel>=0.8.0->holoviews) (4.62.3)\n",
      "Requirement already satisfied: pyct>=0.4.4 in c:\\backup\\envs\\dev\\envs\\dev\\lib\\site-packages (from panel>=0.8.0->holoviews) (0.4.8)\n",
      "Requirement already satisfied: bleach in c:\\backup\\envs\\dev\\envs\\dev\\lib\\site-packages (from panel>=0.8.0->holoviews) (4.1.0)\n",
      "Requirement already satisfied: pillow>=7.1.0 in c:\\backup\\envs\\dev\\envs\\dev\\lib\\site-packages (from bokeh<2.5.0,>=2.4.0->panel>=0.8.0->holoviews) (8.4.0)\n",
      "Requirement already satisfied: typing-extensions>=3.10.0 in c:\\backup\\envs\\dev\\envs\\dev\\lib\\site-packages (from bokeh<2.5.0,>=2.4.0->panel>=0.8.0->holoviews) (3.10.0.2)\n",
      "Requirement already satisfied: Jinja2>=2.9 in c:\\backup\\envs\\dev\\envs\\dev\\lib\\site-packages (from bokeh<2.5.0,>=2.4.0->panel>=0.8.0->holoviews) (2.11.3)\n",
      "Requirement already satisfied: tornado>=5.1 in c:\\backup\\envs\\dev\\envs\\dev\\lib\\site-packages (from bokeh<2.5.0,>=2.4.0->panel>=0.8.0->holoviews) (6.1)\n",
      "Requirement already satisfied: packaging>=16.8 in c:\\backup\\envs\\dev\\envs\\dev\\lib\\site-packages (from bokeh<2.5.0,>=2.4.0->panel>=0.8.0->holoviews) (21.3)\n",
      "Requirement already satisfied: PyYAML>=3.10 in c:\\backup\\envs\\dev\\envs\\dev\\lib\\site-packages (from bokeh<2.5.0,>=2.4.0->panel>=0.8.0->holoviews) (6.0)\n",
      "Requirement already satisfied: MarkupSafe>=0.23 in c:\\backup\\envs\\dev\\envs\\dev\\lib\\site-packages (from Jinja2>=2.9->bokeh<2.5.0,>=2.4.0->panel>=0.8.0->holoviews) (1.1.1)\n",
      "Requirement already satisfied: pyparsing!=3.0.5,>=2.0.2 in c:\\backup\\envs\\dev\\envs\\dev\\lib\\site-packages (from packaging>=16.8->bokeh<2.5.0,>=2.4.0->panel>=0.8.0->holoviews) (3.0.4)\n",
      "Requirement already satisfied: six>=1.5 in c:\\backup\\envs\\dev\\envs\\dev\\lib\\site-packages (from python-dateutil>=2.7.3->pandas>=0.20.0->holoviews) (1.16.0)\n",
      "Requirement already satisfied: colorama in c:\\backup\\envs\\dev\\envs\\dev\\lib\\site-packages (from tqdm>=4.48.0->panel>=0.8.0->holoviews) (0.4.4)\n",
      "Requirement already satisfied: webencodings in c:\\backup\\envs\\dev\\envs\\dev\\lib\\site-packages (from bleach->panel>=0.8.0->holoviews) (0.5.1)\n",
      "Requirement already satisfied: importlib-metadata in c:\\backup\\envs\\dev\\envs\\dev\\lib\\site-packages (from markdown->panel>=0.8.0->holoviews) (4.8.2)\n",
      "Requirement already satisfied: zipp>=0.5 in c:\\backup\\envs\\dev\\envs\\dev\\lib\\site-packages (from importlib-metadata->markdown->panel>=0.8.0->holoviews) (3.7.0)\n",
      "Requirement already satisfied: urllib3<1.27,>=1.21.1 in c:\\backup\\envs\\dev\\envs\\dev\\lib\\site-packages (from requests->panel>=0.8.0->holoviews) (1.26.7)\n",
      "Requirement already satisfied: certifi>=2017.4.17 in c:\\backup\\envs\\dev\\envs\\dev\\lib\\site-packages (from requests->panel>=0.8.0->holoviews) (2021.10.8)\n",
      "Requirement already satisfied: charset-normalizer~=2.0.0 in c:\\backup\\envs\\dev\\envs\\dev\\lib\\site-packages (from requests->panel>=0.8.0->holoviews) (2.0.4)\n",
      "Requirement already satisfied: idna<4,>=2.5 in c:\\backup\\envs\\dev\\envs\\dev\\lib\\site-packages (from requests->panel>=0.8.0->holoviews) (3.3)\n"
     ]
    }
   ],
   "source": [
    "# Install the required libraries\n",
    "!pip install pystan\n",
    "!pip install fbprophet\n",
    "!pip install hvplot\n",
    "!pip install holoviews"
   ]
  },
  {
   "cell_type": "code",
   "execution_count": null,
   "metadata": {},
   "outputs": [],
   "source": [
    "# Import the required libraries and dependencies\n",
    "import pandas as pd\n",
    "import holoviews as hv\n",
    "from fbprophet import Prophet\n",
    "import hvplot.pandas\n",
    "import datetime as dt\n",
    "%matplotlib inline"
   ]
  },
  {
   "cell_type": "markdown",
   "metadata": {},
   "source": [
    "## Step 1: Find Unusual Patterns in Hourly Google Search Traffic\n",
    "\n",
    "The data science manager asks if the Google search traffic for the company links to any financial events at the company. Or, does the search traffic data just present random noise? To answer this question, pick out any unusual patterns in the Google search data for the company, and connect them to the corporate financial events.\n",
    "\n",
    "To do so, complete the following steps:\n",
    "\n",
    "1. Read the search data into a DataFrame, and then slice the data to just the month of May 2020. (During this month, MercadoLibre released its quarterly financial results.) Use hvPlot to visualize the results. Do any unusual patterns exist?\n",
    "\n",
    "2. Calculate the total search traffic for the month, and then compare the value to the monthly median across all months. Did the Google search traffic increase during the month that MercadoLibre released its financial results?\n"
   ]
  },
  {
   "cell_type": "markdown",
   "metadata": {},
   "source": [
    "#### Step 1: Read the search data into a DataFrame, and then slice the data to just the month of May 2020. (During this month, MercadoLibre released its quarterly financial results.) Use hvPlot to visualize the results. Do any unusual patterns exist?"
   ]
  },
  {
   "cell_type": "code",
   "execution_count": 3,
   "metadata": {},
   "outputs": [
    {
     "ename": "ModuleNotFoundError",
     "evalue": "No module named 'google'",
     "output_type": "error",
     "traceback": [
      "\u001b[1;31m---------------------------------------------------------------------------\u001b[0m",
      "\u001b[1;31mModuleNotFoundError\u001b[0m                       Traceback (most recent call last)",
      "\u001b[1;32mC:\\Users\\Public\\Documents\\Wondershare\\CreatorTemp/ipykernel_19236/3997090912.py\u001b[0m in \u001b[0;36m<module>\u001b[1;34m\u001b[0m\n\u001b[0;32m      2\u001b[0m \u001b[1;31m# Set the \"Date\" column as the Datetime Index.\u001b[0m\u001b[1;33m\u001b[0m\u001b[1;33m\u001b[0m\u001b[1;33m\u001b[0m\u001b[0m\n\u001b[0;32m      3\u001b[0m \u001b[1;33m\u001b[0m\u001b[0m\n\u001b[1;32m----> 4\u001b[1;33m \u001b[1;32mfrom\u001b[0m \u001b[0mgoogle\u001b[0m\u001b[1;33m.\u001b[0m\u001b[0mcolab\u001b[0m \u001b[1;32mimport\u001b[0m \u001b[0mfiles\u001b[0m\u001b[1;33m\u001b[0m\u001b[1;33m\u001b[0m\u001b[0m\n\u001b[0m\u001b[0;32m      5\u001b[0m \u001b[0muploaded\u001b[0m \u001b[1;33m=\u001b[0m \u001b[0mfiles\u001b[0m\u001b[1;33m.\u001b[0m\u001b[0mupload\u001b[0m\u001b[1;33m(\u001b[0m\u001b[1;33m)\u001b[0m\u001b[1;33m\u001b[0m\u001b[1;33m\u001b[0m\u001b[0m\n\u001b[0;32m      6\u001b[0m \u001b[1;33m\u001b[0m\u001b[0m\n",
      "\u001b[1;31mModuleNotFoundError\u001b[0m: No module named 'google'"
     ]
    }
   ],
   "source": [
    "# Upload the \"google_hourly_search_trends.csv\" file into Colab, then store in a Pandas DataFrame\n",
    "# Set the \"Date\" column as the Datetime Index.\n",
    "\n",
    "from google.colab import files\n",
    "uploaded = files.upload()\n",
    "\n",
    "df_mercado_trends = pd.read_csv('google_hourly_search_trends.csv',\n",
    "                                index_col = \"Date\",\n",
    "                                parse_dates = True,\n",
    "                                infer_datetime_format = True)\n",
    "\n",
    "# Review the first and last five rows of the DataFrame\n",
    "df_mercado_trends.head()\n"
   ]
  },
  {
   "cell_type": "code",
   "execution_count": null,
   "metadata": {},
   "outputs": [],
   "source": [
    "# Review the data types of the DataFrame using the info function\n",
    "# YOUR CODE HERE\n"
   ]
  },
  {
   "cell_type": "code",
   "execution_count": null,
   "metadata": {},
   "outputs": [],
   "source": [
    "# Holoviews extension to render hvPlots in Colab\n",
    "hv.extension('bokeh')\n",
    "\n",
    "# Slice the DataFrame to just the month of May 2020\n",
    "df_may_2020 = # YOUR CODE HERE\n",
    "\n",
    "# Use hvPlot to visualize the data for May 2020\n",
    "# YOUR CODE HERE\n"
   ]
  },
  {
   "cell_type": "markdown",
   "metadata": {},
   "source": [
    "#### Step 2: Calculate the total search traffic for the month, and then compare the value to the monthly median across all months. Did the Google search traffic increase during the month that MercadoLibre released its financial results?"
   ]
  },
  {
   "cell_type": "code",
   "execution_count": null,
   "metadata": {},
   "outputs": [],
   "source": [
    "# Calculate the sum of the total search traffic for May 2020\n",
    "traffic_may_2020 = # YOUR CODE HERE\n",
    "\n",
    "# View the traffic_may_2020 value\n",
    "# YOUR CODE HERE\n"
   ]
  },
  {
   "cell_type": "code",
   "execution_count": null,
   "metadata": {},
   "outputs": [],
   "source": [
    "# Calcluate the monhtly median search traffic across all months \n",
    "# Group the DataFrame by index year and then index month, chain the sum and then the median functions\n",
    "median_monthly_traffic = # YOUR CODE HERE\n",
    "\n",
    "# View the median_monthly_traffic value\n",
    "# YOUR CODE HERE\n"
   ]
  },
  {
   "cell_type": "code",
   "execution_count": null,
   "metadata": {},
   "outputs": [],
   "source": [
    "# Compare the seach traffic for the month of May 2020 to the overall monthly median value\n",
    "# YOUR CODE HERE\n"
   ]
  },
  {
   "cell_type": "markdown",
   "metadata": {},
   "source": [
    "##### Answer the following question: "
   ]
  },
  {
   "cell_type": "markdown",
   "metadata": {},
   "source": [
    "**Question:** Did the Google search traffic increase during the month that MercadoLibre released its financial results?\n",
    "\n",
    "**Answer:** # YOUR ANSWER HERE"
   ]
  },
  {
   "cell_type": "markdown",
   "metadata": {},
   "source": [
    "## Step 2: Mine the Search Traffic Data for Seasonality\n",
    "\n",
    "Marketing realizes that they can use the hourly search data, too. If they can track and predict interest in the company and its platform for any time of day, they can focus their marketing efforts around the times that have the most traffic. This will get a greater return on investment (ROI) from their marketing budget.\n",
    "\n",
    "To that end, you want to mine the search traffic data for predictable seasonal patterns of interest in the company. To do so, complete the following steps:\n",
    "\n",
    "1. Group the hourly search data to plot the average traffic by the day of the week (for example, Monday vs. Friday).\n",
    "\n",
    "2. Using hvPlot, visualize this traffic as a heatmap, referencing the `index.hour` as the x-axis and the `index.dayofweek` as the y-axis. Does any day-of-week effect that you observe concentrate in just a few hours of that day?\n",
    "\n",
    "3. Group the search data by the week of the year. Does the search traffic tend to increase during the winter holiday period (weeks 40 through 52)?\n"
   ]
  },
  {
   "cell_type": "markdown",
   "metadata": {},
   "source": [
    "#### Step 1: Group the hourly search data to plot the average traffic by the day of the week (for example, Monday vs. Friday)."
   ]
  },
  {
   "cell_type": "code",
   "execution_count": null,
   "metadata": {},
   "outputs": [],
   "source": [
    "# Holoviews extension to render hvPlots in Colab\n",
    "hv.extension('bokeh')\n",
    "\n",
    "# Group the hourly search data to plot (use hvPlot) the average traffic by the day of week \n",
    "# YOUR CODE HERE\n"
   ]
  },
  {
   "cell_type": "markdown",
   "metadata": {},
   "source": [
    "#### Step 2: Using hvPlot, visualize this traffic as a heatmap, referencing the `index.hour` as the x-axis and the `index.dayofweek` as the y-axis. Does any day-of-week effect that you observe concentrate in just a few hours of that day?"
   ]
  },
  {
   "cell_type": "code",
   "execution_count": null,
   "metadata": {},
   "outputs": [],
   "source": [
    "# Holoviews extension to render hvPlots in Colab\n",
    "hv.extension('bokeh')\n",
    "\n",
    "# Use hvPlot to visualize the hour of the day and day of week search traffic as a heatmap.\n",
    "# YOUR CODE HERE\n"
   ]
  },
  {
   "cell_type": "markdown",
   "metadata": {},
   "source": [
    "##### Answer the following question:"
   ]
  },
  {
   "cell_type": "markdown",
   "metadata": {},
   "source": [
    "**Question:** Does any day-of-week effect that you observe concentrate in just a few hours of that day?\n",
    "\n",
    "**Answer:** # YOUR ANSWER HERE"
   ]
  },
  {
   "cell_type": "markdown",
   "metadata": {},
   "source": [
    "#### Step 3: Group the search data by the week of the year. Does the search traffic tend to increase during the winter holiday period (weeks 40 through 52)?"
   ]
  },
  {
   "cell_type": "code",
   "execution_count": null,
   "metadata": {},
   "outputs": [],
   "source": [
    "# Holoviews extension to render hvPlots in Colab\n",
    "hv.extension('bokeh')\n",
    "\n",
    "# Group the hourly search data to plot (use hvPlot) the average traffic by the week of the year\n",
    "# YOUR CODE HERE"
   ]
  },
  {
   "cell_type": "markdown",
   "metadata": {},
   "source": [
    "##### Answer the following question:"
   ]
  },
  {
   "cell_type": "markdown",
   "metadata": {},
   "source": [
    "**Question:** Does the search traffic tend to increase during the winter holiday period (weeks 40 through 52)?\n",
    "\n",
    "**Answer:** # YOUR ANSWER HERE"
   ]
  },
  {
   "cell_type": "markdown",
   "metadata": {},
   "source": [
    "## Step 3: Relate the Search Traffic to Stock Price Patterns\n",
    "\n",
    "You mention your work on the search traffic data during a meeting with people in the finance group at the company. They want to know if any relationship between the search data and the company stock price exists, and they ask if you can investigate.\n",
    "\n",
    "To do so, complete the following steps:\n",
    "\n",
    "1. Read in and plot the stock price data. Concatenate the stock price data to the search data in a single DataFrame.\n",
    "\n",
    "2. Market events emerged during the year of 2020 that many companies found difficult. But, after the initial shock to global financial markets, new customers and revenue increased for e-commerce platforms. Slice the data to just the first half of 2020 (`2020-01` to `2020-06` in the DataFrame), and then use hvPlot to plot the data. Do both time series indicate a common trend that’s consistent with this narrative?\n",
    "\n",
    "3. Create a new column in the DataFrame named “Lagged Search Trends” that offsets, or shifts, the search traffic by one hour. Create two additional columns:\n",
    "\n",
    "    * “Stock Volatility”, which holds an exponentially weighted four-hour rolling average of the company’s stock volatility\n",
    "\n",
    "    * “Hourly Stock Return”, which holds the percent change of the company's stock price on an hourly basis\n",
    "\n",
    "4. Review the time series correlation, and then answer the following question: Does a predictable relationship exist between the lagged search traffic and the stock volatility or between the lagged search traffic and the stock price returns?\n"
   ]
  },
  {
   "cell_type": "markdown",
   "metadata": {},
   "source": [
    "#### Step 1: Read in and plot the stock price data. Concatenate the stock price data to the search data in a single DataFrame."
   ]
  },
  {
   "cell_type": "code",
   "execution_count": null,
   "metadata": {},
   "outputs": [],
   "source": [
    "# Upload the \"mercado_stock_price.csv\" file into Colab, then store in a Pandas DataFrame\n",
    "# Set the \"date\" column as the Datetime Index.\n",
    "from google.colab import files\n",
    "uploaded = files.upload()\n",
    "\n",
    "df_mercado_stock = # YOUR CODE HERE\n",
    "\n",
    "# View the first and last five rows of the DataFrame\n",
    "# YOUR CODE HERE\n"
   ]
  },
  {
   "cell_type": "code",
   "execution_count": null,
   "metadata": {},
   "outputs": [],
   "source": [
    "# Holoviews extension to render hvPlots in Colab\n",
    "hv.extension('bokeh')\n",
    "\n",
    "# Use hvPlot to visualize the closing price of the df_mercado_stock DataFrame\n",
    "# YOUR CODE HERE\n"
   ]
  },
  {
   "cell_type": "code",
   "execution_count": null,
   "metadata": {},
   "outputs": [],
   "source": [
    "# Concatenate the df_mercado_stock DataFrame with the df_mercado_trends DataFrame\n",
    "# Concatenate the DataFrame by columns (axis=1), and drop and rows with only one column of data\n",
    "mercado_stock_trends_df = # YOUR CODE HERE\n",
    "\n",
    "# View the first and last five rows of the DataFrame\n",
    "# YOUR CODE HERE\n"
   ]
  },
  {
   "cell_type": "markdown",
   "metadata": {},
   "source": [
    "#### Step 2: Market events emerged during the year of 2020 that many companies found difficult. But, after the initial shock to global financial markets, new customers and revenue increased for e-commerce platforms. Slice the data to just the first half of 2020 (`2020-01` to `2020-06` in the DataFrame), and then use hvPlot to plot the data. Do both time series indicate a common trend that’s consistent with this narrative?"
   ]
  },
  {
   "cell_type": "code",
   "execution_count": null,
   "metadata": {},
   "outputs": [],
   "source": [
    "# For the combined dataframe, slice to just the first half of 2020 (2020-01 through 2020-06) \n",
    "first_half_2020 = # YOUR CODE HERE\n",
    "\n",
    "# View the first and last five rows of first_half_2020 DataFrame\n",
    "# YOUR CODE HERE\n"
   ]
  },
  {
   "cell_type": "code",
   "execution_count": null,
   "metadata": {},
   "outputs": [],
   "source": [
    "# Holoviews extension to render hvPlots in Colab\n",
    "hv.extension('bokeh')\n",
    "\n",
    "# Use hvPlot to visualize the close and Search Trends data\n",
    "# Plot each column on a separate axes using the following syntax\n",
    "# `hvplot(shared_axes=False, subplots=True).cols(1)`\n",
    "# YOUR CODE HERE\n"
   ]
  },
  {
   "cell_type": "markdown",
   "metadata": {},
   "source": [
    "##### Answer the following question:"
   ]
  },
  {
   "cell_type": "markdown",
   "metadata": {},
   "source": [
    "**Question:** Do both time series indicate a common trend that’s consistent with this narrative?\n",
    "\n",
    "**Answer:** # YOUR ANSWER HERE"
   ]
  },
  {
   "cell_type": "markdown",
   "metadata": {},
   "source": [
    "#### Step 3: Create a new column in the DataFrame named “Lagged Search Trends” that offsets, or shifts, the search traffic by one hour. Create two additional columns:\n",
    "\n",
    "* “Stock Volatility”, which holds an exponentially weighted four-hour rolling average of the company’s stock volatility\n",
    "\n",
    "* “Hourly Stock Return”, which holds the percent change of the company's stock price on an hourly basis\n"
   ]
  },
  {
   "cell_type": "code",
   "execution_count": null,
   "metadata": {},
   "outputs": [],
   "source": [
    "# Create a new column in the mercado_stock_trends_df DataFrame called Lagged Search Trends\n",
    "# This column should shift the Search Trends information by one hour\n",
    "mercado_stock_trends_df['Lagged Search Trends'] = # YOUR CODE HERE\n"
   ]
  },
  {
   "cell_type": "code",
   "execution_count": null,
   "metadata": {},
   "outputs": [],
   "source": [
    "# Create a new column in the mercado_stock_trends_df DataFrame called Stock Volatility\n",
    "# This column should calculate the standard deviation of the closing stock price return data over a 4 period rolling window\n",
    "mercado_stock_trends_df['Stock Volatility'] = # YOUR CODE HERE\n"
   ]
  },
  {
   "cell_type": "code",
   "execution_count": null,
   "metadata": {},
   "outputs": [],
   "source": [
    "# Holoviews extension to render hvPlots in Colab\n",
    "hv.extension('bokeh')\n",
    "\n",
    "# Use hvPlot to visualize the stock volatility\n",
    "# YOUR CODE HERE\n"
   ]
  },
  {
   "cell_type": "markdown",
   "metadata": {},
   "source": [
    "**Solution Note:** Note how volatility spiked, and tended to stay high, during the first half of 2020. This is a common characteristic of volatility in stock returns worldwide: high volatility days tend to be followed by yet more high volatility days. When it rains, it pours."
   ]
  },
  {
   "cell_type": "code",
   "execution_count": null,
   "metadata": {},
   "outputs": [],
   "source": [
    "# Create a new column in the mercado_stock_trends_df DataFrame called Hourly Stock Return\n",
    "# This column should calculate hourly return percentage of the closing price\n",
    "mercado_stock_trends_df['Hourly Stock Return'] = # YOUR CODE HERE\n"
   ]
  },
  {
   "cell_type": "code",
   "execution_count": null,
   "metadata": {},
   "outputs": [],
   "source": [
    "# View the first and last five rows of the mercado_stock_trends_df DataFrame\n",
    "# YOUR CODE HERE\n"
   ]
  },
  {
   "cell_type": "markdown",
   "metadata": {},
   "source": [
    "#### Step 4: Review the time series correlation, and then answer the following question: Does a predictable relationship exist between the lagged search traffic and the stock volatility or between the lagged search traffic and the stock price returns?"
   ]
  },
  {
   "cell_type": "code",
   "execution_count": null,
   "metadata": {},
   "outputs": [],
   "source": [
    "# Construct correlation table of Stock Volatility, Lagged Search Trends, and Hourly Stock Return\n",
    "# YOUR CODE HERE\n"
   ]
  },
  {
   "cell_type": "markdown",
   "metadata": {},
   "source": [
    "##### Answer the following question:\n"
   ]
  },
  {
   "cell_type": "markdown",
   "metadata": {},
   "source": [
    "**Question:** Does a predictable relationship exist between the lagged search traffic and the stock volatility or between the lagged search traffic and the stock price returns?\n",
    "\n",
    "**Answer:** # YOUR ANSWER HERE"
   ]
  },
  {
   "cell_type": "markdown",
   "metadata": {},
   "source": [
    "## Step 4: Create a Time Series Model with Prophet\n",
    "\n",
    "Now, you need to produce a time series model that analyzes and forecasts patterns in the hourly search data. To do so, complete the following steps:\n",
    "\n",
    "1. Set up the Google search data for a Prophet forecasting model.\n",
    "\n",
    "2. After estimating the model, plot the forecast. How's the near-term forecast for the popularity of MercadoLibre?\n",
    "\n",
    "3. Plot the individual time series components of the model to answer the following questions:\n",
    "\n",
    "    * What time of day exhibits the greatest popularity?\n",
    "\n",
    "    * Which day of the week gets the most search traffic?\n",
    "\n",
    "    * What's the lowest point for search traffic in the calendar year?\n"
   ]
  },
  {
   "cell_type": "markdown",
   "metadata": {},
   "source": [
    "#### Step 1: Set up the Google search data for a Prophet forecasting model."
   ]
  },
  {
   "cell_type": "code",
   "execution_count": null,
   "metadata": {},
   "outputs": [],
   "source": [
    "# Using the df_mercado_trends DataFrame, reset the index so the date information is no longer the index\n",
    "mercado_prophet_df = # YOUR CODE HERE\n",
    "\n",
    "# Label the columns ds and y so that the syntax is recognized by Prophet\n",
    "# YOUR CODE HERE\n",
    "\n",
    "# Drop an NaN values from the prophet_df DataFrame\n",
    "mercado_prophet_df = # YOUR CODE HERE\n",
    "\n",
    "# View the first and last five rows of the mercado_prophet_df DataFrame\n",
    "# YOUR CODE HERE\n"
   ]
  },
  {
   "cell_type": "code",
   "execution_count": null,
   "metadata": {},
   "outputs": [],
   "source": [
    "# Call the Prophet function, store as an object\n",
    "model_mercado_trends = # YOUR CODE HERE\n"
   ]
  },
  {
   "cell_type": "code",
   "execution_count": null,
   "metadata": {},
   "outputs": [],
   "source": [
    "# Fit the time-series model.\n",
    "# YOUR CODE HERE\n"
   ]
  },
  {
   "cell_type": "code",
   "execution_count": null,
   "metadata": {},
   "outputs": [],
   "source": [
    "# Create a future dataframe to hold predictions\n",
    "# Make the prediction go out as far as 2000 hours (approx 80 days)\n",
    "future_mercado_trends = # YOUR CODE HERE\n",
    "\n",
    "# View the last five rows of the future_mercado_trends DataFrame\n",
    "# YOUR CODE HERE\n"
   ]
  },
  {
   "cell_type": "code",
   "execution_count": null,
   "metadata": {},
   "outputs": [],
   "source": [
    "# Make the predictions for the trend data using the future_mercado_trends DataFrame\n",
    "forecast_mercado_trends = # YOUR CODE HERE\n",
    "\n",
    "# Display the first five rows of the forecast_mercado_trends DataFrame\n",
    "# YOUR CODE HERE\n"
   ]
  },
  {
   "cell_type": "markdown",
   "metadata": {},
   "source": [
    "#### Step 2: After estimating the model, plot the forecast. How's the near-term forecast for the popularity of MercadoLibre?"
   ]
  },
  {
   "cell_type": "code",
   "execution_count": null,
   "metadata": {},
   "outputs": [],
   "source": [
    "# Plot the Prophet predictions for the Mercado trends data\n",
    "# YOUR CODE HERE"
   ]
  },
  {
   "cell_type": "markdown",
   "metadata": {},
   "source": [
    "##### Answer the following question:"
   ]
  },
  {
   "cell_type": "markdown",
   "metadata": {},
   "source": [
    "**Question:**  How's the near-term forecast for the popularity of MercadoLibre?\n",
    "\n",
    "**Answer:** # YOUR ANSWER HERE\n"
   ]
  },
  {
   "cell_type": "markdown",
   "metadata": {},
   "source": [
    "#### Step 3: Plot the individual time series components of the model to answer the following questions:\n",
    "\n",
    "* What time of day exhibits the greatest popularity?\n",
    "\n",
    "* Which day of the week gets the most search traffic?\n",
    "\n",
    "* What's the lowest point for search traffic in the calendar year?\n"
   ]
  },
  {
   "cell_type": "code",
   "execution_count": null,
   "metadata": {},
   "outputs": [],
   "source": [
    "# Set the index in the forecast_mercado_trends DataFrame to the ds datetime column\n",
    "forecast_mercado_trends = # YOUR CODE HERE\n",
    "\n",
    "# View the only the yhat,yhat_lower and yhat_upper columns from the DataFrame\n",
    "# YOUR CODE HERE\n"
   ]
  },
  {
   "cell_type": "markdown",
   "metadata": {},
   "source": [
    "Solutions Note: `yhat` represents the most likely (average) forecast, whereas `yhat_lower` and `yhat_upper` represents the worst and best case prediction (based on what are known as 95% confidence intervals)."
   ]
  },
  {
   "cell_type": "code",
   "execution_count": null,
   "metadata": {},
   "outputs": [],
   "source": [
    "# Holoviews extension to render hvPlots in Colab\n",
    "hv.extension('bokeh')\n",
    "\n",
    "# From the forecast_mercado_trends DataFrame, use hvPlot to visualize\n",
    "#  the yhat, yhat_lower, and yhat_upper columns over the last 2000 hours \n",
    "# YOUR CODE HERE\n"
   ]
  },
  {
   "cell_type": "code",
   "execution_count": null,
   "metadata": {},
   "outputs": [],
   "source": [
    "# Reset the index in the forecast_mercado_trends DataFrame\n",
    "forecast_mercado_trends = # YOUR CODE HERE\n",
    "\n",
    "# Use the plot_components function to visualize the forecast results \n",
    "# for the forecast_canada DataFrame \n",
    "figures_mercado_trends = # YOUR CODE HERE\n"
   ]
  },
  {
   "cell_type": "markdown",
   "metadata": {},
   "source": [
    "##### Answer the following questions:"
   ]
  },
  {
   "cell_type": "markdown",
   "metadata": {},
   "source": [
    "**Question:** What time of day exhibits the greatest popularity?\n",
    "\n",
    "**Answer:** # YOUR ANSWER HERE"
   ]
  },
  {
   "cell_type": "markdown",
   "metadata": {},
   "source": [
    "**Question:** Which day of week gets the most search traffic? \n",
    "   \n",
    "**Answer:** # YOUR ANSWER HERE"
   ]
  },
  {
   "cell_type": "markdown",
   "metadata": {},
   "source": [
    "**Question:** What's the lowest point for search traffic in the calendar year?\n",
    "\n",
    "**Answer:** # YOUR ANSWER HERE\n"
   ]
  },
  {
   "cell_type": "markdown",
   "metadata": {},
   "source": [
    "## Step 5 (Optional): Forecast Revenue by Using Time Series Models\n",
    "\n",
    "A few weeks after your initial analysis, the finance group follows up to find out if you can help them solve a different problem. Your fame as a growth analyst in the company continues to grow!\n",
    "\n",
    "Specifically, the finance group wants a forecast of the total sales for the next quarter. This will dramatically increase their ability to plan budgets and to help guide expectations for the company investors.\n",
    "\n",
    "To do so, complete the following steps:\n",
    "\n",
    "1. Read in the daily historical sales (that is, revenue) figures, and then apply a Prophet model to the data. The daily sales figures are quoted in millions of USD dollars.\n",
    "\n",
    "2. Interpret the model output to identify any seasonal patterns in the company's revenue. For example, what are the peak revenue days? (Mondays? Fridays? Something else?)\n",
    "\n",
    "3. Produce a sales forecast for the finance group. Give them a number for the expected total sales in the next quarter. Include the best- and worst-case scenarios to help them make better plans.\n",
    "\n",
    "\n"
   ]
  },
  {
   "cell_type": "markdown",
   "metadata": {},
   "source": [
    "#### Step 1: Read in the daily historical sales (that is, revenue) figures, and then apply a Prophet model to the data."
   ]
  },
  {
   "cell_type": "code",
   "execution_count": null,
   "metadata": {},
   "outputs": [],
   "source": [
    "# Upload the \"mercado_daily_revenue.csv\" file into Colab, then store in a Pandas DataFrame\n",
    "# Set the \"date\" column as the DatetimeIndex\n",
    "# Sales are quoted in millions of US dollars\n",
    "from google.colab import files\n",
    "uploaded = files.upload()\n",
    "\n",
    "df_mercado_sales = # YOUR CODE HERE\n",
    "\n",
    "# Review the DataFrame\n",
    "# YOUR CODE HERE\n"
   ]
  },
  {
   "cell_type": "code",
   "execution_count": null,
   "metadata": {},
   "outputs": [],
   "source": [
    "# Holoviews extension to render hvPlots in Colab\n",
    "hv.extension('bokeh')\n",
    "\n",
    "# Use hvPlot to visualize the daily sales figures \n",
    "# YOUR CODE HERE\n"
   ]
  },
  {
   "cell_type": "code",
   "execution_count": null,
   "metadata": {},
   "outputs": [],
   "source": [
    "# Apply a Facebook Prophet model to the data.\n",
    "\n",
    "# Set up the dataframe in the neccessary format:\n",
    "# Reset the index so that date becomes a column in the DataFrame\n",
    "mercado_sales_prophet_df = # YOUR CODE HERE\n",
    "\n",
    "# Adjust the columns names to the Prophet syntax\n",
    "mercado_sales_prophet_df.columns = # YOUR CODE HERE\n",
    "\n",
    "# Visualize the DataFrame\n",
    "# YOUR CODE HERE\n"
   ]
  },
  {
   "cell_type": "code",
   "execution_count": null,
   "metadata": {},
   "outputs": [],
   "source": [
    "# Create the model\n",
    "mercado_sales_prophet_model = # YOUR CODE HERE\n",
    "\n",
    "# Fit the model\n",
    "# YOUR CODE HERE\n"
   ]
  },
  {
   "cell_type": "code",
   "execution_count": null,
   "metadata": {},
   "outputs": [],
   "source": [
    "# Predict sales for 90 days (1 quarter) out into the future.\n",
    "\n",
    "# Start by making a future dataframe\n",
    "mercado_sales_prophet_future = # YOUR CODE HERE\n",
    "\n",
    "# Display the last five rows of the future DataFrame\n",
    "# YOUR CODE HERE\n"
   ]
  },
  {
   "cell_type": "code",
   "execution_count": null,
   "metadata": {},
   "outputs": [],
   "source": [
    "# Make predictions for the sales each day over the next quarter\n",
    "mercado_sales_prophet_forecast = # YOUR CODE HERE\n",
    "\n",
    "# Display the first 5 rows of the resulting DataFrame\n",
    "# YOUR CODE HERE\n"
   ]
  },
  {
   "cell_type": "markdown",
   "metadata": {},
   "source": [
    "#### Step 2: Interpret the model output to identify any seasonal patterns in the company's revenue. For example, what are the peak revenue days? (Mondays? Fridays? Something else?)"
   ]
  },
  {
   "cell_type": "code",
   "execution_count": null,
   "metadata": {},
   "outputs": [],
   "source": [
    "# Use the plot_components function to analyze seasonal patterns in the company's revenue\n",
    "# YOUR CODE HERE\n"
   ]
  },
  {
   "cell_type": "markdown",
   "metadata": {},
   "source": [
    "##### Answer the following question:"
   ]
  },
  {
   "cell_type": "markdown",
   "metadata": {},
   "source": [
    "**Question:** For example, what are the peak revenue days? (Mondays? Fridays? Something else?)\n",
    "\n",
    "**Answer:** # YOUR ANSWER HERE"
   ]
  },
  {
   "cell_type": "markdown",
   "metadata": {},
   "source": [
    "#### Step 3: Produce a sales forecast for the finance group. Give them a number for the expected total sales in the next quarter. Include the best- and worst-case scenarios to help them make better plans."
   ]
  },
  {
   "cell_type": "code",
   "execution_count": null,
   "metadata": {},
   "outputs": [],
   "source": [
    "# Plot the predictions for the Mercado sales\n",
    "# YOUR CODE HERE\n"
   ]
  },
  {
   "cell_type": "code",
   "execution_count": null,
   "metadata": {},
   "outputs": [],
   "source": [
    "# For the mercado_sales_prophet_forecast DataFrame, set the ds column as the DataFrame Index\n",
    "mercado_sales_prophet_forecast = # YOUR CODE HERE\n",
    "\n",
    "# Display the first and last five rows of the DataFrame\n",
    "# YOUR CODE HERE\n"
   ]
  },
  {
   "cell_type": "code",
   "execution_count": null,
   "metadata": {},
   "outputs": [],
   "source": [
    "# Produce a sales forecast for the finance division\n",
    "# giving them a number for expected total sales next quarter.\n",
    "# Provide best case (yhat_upper), worst case (yhat_lower), and most likely (yhat) scenarios.\n",
    "\n",
    "# Create a forecast_quarter Dataframe for the period 2020-07-01 to 2020-09-30\n",
    "# The DataFrame should include the columns yhat_upper, yhat_lower, and yhat\n",
    "mercado_sales_forecast_quarter = # YOUR CODE HERE\n",
    "\n",
    "# Update the column names for the forecast_quarter DataFrame\n",
    "# to match what the finance division is looking for \n",
    "mercado_sales_forecast_quarter = # YOUR CODE HERE\n",
    "\n",
    "# Review the last five rows of the DataFrame\n",
    "# YOUR CODE HERE\n"
   ]
  },
  {
   "cell_type": "code",
   "execution_count": null,
   "metadata": {},
   "outputs": [],
   "source": [
    "# Displayed the summed values for all the rows in the forecast_quarter DataFrame\n",
    "# YOUR CODE HERE\n"
   ]
  },
  {
   "cell_type": "markdown",
   "metadata": {},
   "source": [
    "### Based on the forecast information generated above, produce a sales forecast for the finance division, giving them a number for expected total sales next quarter. Include best and worst case scenarios, to better help the finance team plan.\n",
    "\n",
    "**Answer:** # YOUR ANSWER HERE"
   ]
  },
  {
   "cell_type": "code",
   "execution_count": null,
   "metadata": {},
   "outputs": [],
   "source": []
  }
 ],
 "metadata": {
  "interpreter": {
   "hash": "19e8989aa3860df68a863f1588d3224aff2bcab6c36efaf4301abe79e1a8b3d9"
  },
  "kernelspec": {
   "display_name": "Python 3 (ipykernel)",
   "language": "python",
   "name": "python3"
  },
  "language_info": {
   "codemirror_mode": {
    "name": "ipython",
    "version": 3
   },
   "file_extension": ".py",
   "mimetype": "text/x-python",
   "name": "python",
   "nbconvert_exporter": "python",
   "pygments_lexer": "ipython3",
   "version": "3.7.11"
  }
 },
 "nbformat": 4,
 "nbformat_minor": 4
}
